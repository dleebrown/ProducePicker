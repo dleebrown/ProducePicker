{
 "cells": [
  {
   "cell_type": "code",
   "execution_count": null,
   "metadata": {},
   "outputs": [],
   "source": [
    "\"\"\"dump prophet results to postgres\n",
    "\"\"\""
   ]
  },
  {
   "cell_type": "code",
   "execution_count": 40,
   "metadata": {},
   "outputs": [],
   "source": [
    "# import what I need\n",
    "from sqlalchemy import create_engine\n",
    "from sqlalchemy_utils import database_exists, create_database\n",
    "from sqlalchemy import text\n",
    "import psycopg2\n",
    "from psycopg2 import sql\n",
    "import pandas as pd\n",
    "from psycopg2.extensions import AsIs\n"
   ]
  },
  {
   "cell_type": "code",
   "execution_count": 41,
   "metadata": {},
   "outputs": [],
   "source": [
    "# define folder locations, vars\n",
    "predictions_names = ['ny_prophet_predictions', 'la_prophet_predictions']\n",
    "folder = './'\n",
    "\n",
    "dbname = 'produce_predictions'\n",
    "username = 'donald'"
   ]
  },
  {
   "cell_type": "code",
   "execution_count": 42,
   "metadata": {},
   "outputs": [
    {
     "name": "stdout",
     "output_type": "stream",
     "text": [
      "postgres://donald@localhost/produce_predictions\n"
     ]
    }
   ],
   "source": [
    "# engine\n",
    "engine = create_engine('postgres://%s@localhost/%s'%(username,dbname))\n",
    "print(engine.url)"
   ]
  },
  {
   "cell_type": "code",
   "execution_count": 43,
   "metadata": {},
   "outputs": [
    {
     "name": "stdout",
     "output_type": "stream",
     "text": [
      "True\n"
     ]
    }
   ],
   "source": [
    "## create a database (if it doesn't exist)\n",
    "if not database_exists(engine.url):\n",
    "    create_database(engine.url)\n",
    "print(database_exists(engine.url))"
   ]
  },
  {
   "cell_type": "code",
   "execution_count": 52,
   "metadata": {},
   "outputs": [
    {
     "name": "stdout",
     "output_type": "stream",
     "text": [
      "[{'item': 'APPLES', 'currprice': 27.99, 'predictprice': 32.67}, {'item': 'APRICOTS', 'currprice': 37.46, 'predictprice': 30.16}, {'item': 'ASPARAGUS', 'currprice': 26.14, 'predictprice': 28.85}, {'item': 'AVOCADOS', 'currprice': 33.04, 'predictprice': 56.52}, {'item': 'BANANAS', 'currprice': 16.6, 'predictprice': 16.1}, {'item': 'BEANS', 'currprice': 25.59, 'predictprice': 25.48}, {'item': 'BEETS', 'currprice': 13.21, 'predictprice': 14.01}, {'item': 'BLACKBERRIES', 'currprice': 19.39, 'predictprice': 18.7}, {'item': 'BLUEBERRIES', 'currprice': 30.51, 'predictprice': 16.03}, {'item': 'BROCCOLI', 'currprice': 28.95, 'predictprice': 22.58}, {'item': 'CABBAGE', 'currprice': 12.93, 'predictprice': 13.69}, {'item': 'CANTALOUPS', 'currprice': 21.51, 'predictprice': 13.13}, {'item': 'CARROTS', 'currprice': 15.83, 'predictprice': 18.07}, {'item': 'CAULIFLOWER', 'currprice': 19.67, 'predictprice': 15.72}, {'item': 'CELERY', 'currprice': 18.14, 'predictprice': 16.51}, {'item': 'CHERRIES', 'currprice': 28.77, 'predictprice': 56.74}, {'item': 'CLEMENTINES', 'currprice': 6.75, 'predictprice': 7.4}, {'item': 'CUCUMBERS', 'currprice': 22.1, 'predictprice': 16.93}, {'item': 'ENDIVE', 'currprice': 13.0, 'predictprice': 13.17}, {'item': 'GARLIC', 'currprice': 48.5, 'predictprice': 59.56}, {'item': 'GINGER+ROOT', 'currprice': 24.14, 'predictprice': 24.86}, {'item': 'GRAPEFRUIT', 'currprice': 24.18, 'predictprice': 24.38}, {'item': 'GRAPES', 'currprice': 24.01, 'predictprice': 22.07}, {'item': 'HONEYDEWS', 'currprice': 13.93, 'predictprice': 13.92}, {'item': 'KIWIFRUIT', 'currprice': 18.47, 'predictprice': 27.58}, {'item': 'LEMONS', 'currprice': 31.48, 'predictprice': 40.23}, {'item': 'LETTUCE%2C+ICEBERG', 'currprice': 16.94, 'predictprice': 16.83}, {'item': 'LETTUCE%2C+ROMAINE', 'currprice': 13.3, 'predictprice': 14.43}, {'item': 'LETTUCE%2C+RED+LEAF', 'currprice': 15.79, 'predictprice': 14.99}, {'item': 'LETTUCE%2C+GREEN+LEAF', 'currprice': 16.12, 'predictprice': 15.22}, {'item': 'LIMES', 'currprice': 21.21, 'predictprice': 18.39}, {'item': 'NECTARINES', 'currprice': 40.79, 'predictprice': 30.35}, {'item': 'OKRA', 'currprice': 18.5, 'predictprice': 21.95}, {'item': 'ORANGES', 'currprice': 28.5, 'predictprice': 32.18}, {'item': 'PEACHES', 'currprice': 42.99, 'predictprice': 30.37}, {'item': 'PEARS', 'currprice': 40.25, 'predictprice': 38.9}, {'item': 'PEAS+GREEN', 'currprice': 19.69, 'predictprice': 23.45}, {'item': 'PEPPERS%2C+BELL+TYPE', 'currprice': 24.02, 'predictprice': 13.32}, {'item': 'PINEAPPLES', 'currprice': 12.21, 'predictprice': 10.36}, {'item': 'PLUMS', 'currprice': 33.43, 'predictprice': 30.98}, {'item': 'POTATOES', 'currprice': 20.0, 'predictprice': 23.11}, {'item': 'RADISHES', 'currprice': 16.27, 'predictprice': 13.19}, {'item': 'RASPBERRIES', 'currprice': 33.98, 'predictprice': 21.89}, {'item': 'RHUBARB', 'currprice': 31.89, 'predictprice': 32.83}, {'item': 'SPINACH', 'currprice': 20.23, 'predictprice': 19.02}, {'item': 'SQUASH', 'currprice': 16.9, 'predictprice': 17.77}, {'item': 'STRAWBERRIES', 'currprice': 10.86, 'predictprice': 15.64}, {'item': 'BRUSSELS+SPROUTS', 'currprice': 27.0, 'predictprice': 37.73}]\n",
      "[{'item': 'APPLES', 'currprice': 25.7, 'predictprice': 26.63}, {'item': 'APRICOTS', 'currprice': 34.87, 'predictprice': 29.38}, {'item': 'ASPARAGUS', 'currprice': 25.93, 'predictprice': 29.11}, {'item': 'AVOCADOS', 'currprice': 34.0, 'predictprice': 55.82}, {'item': 'BANANAS', 'currprice': 15.16, 'predictprice': 16.37}, {'item': 'BEANS', 'currprice': 26.0, 'predictprice': 14.39}, {'item': 'BEETS', 'currprice': 11.0, 'predictprice': 9.25}, {'item': 'BLACKBERRIES', 'currprice': 13.0, 'predictprice': 13.47}, {'item': 'BLUEBERRIES', 'currprice': 28.0, 'predictprice': 13.87}, {'item': 'BROCCOLI', 'currprice': 15.39, 'predictprice': 12.32}, {'item': 'CABBAGE', 'currprice': 21.5, 'predictprice': 10.2}, {'item': 'CANTALOUPS', 'currprice': 15.35, 'predictprice': 8.51}, {'item': 'CARROTS', 'currprice': 17.56, 'predictprice': 16.08}, {'item': 'CAULIFLOWER', 'currprice': 19.0, 'predictprice': 13.54}, {'item': 'CELERY', 'currprice': 10.25, 'predictprice': 9.41}, {'item': 'CHERRIES', 'currprice': 33.39, 'predictprice': 57.16}, {'item': 'CLEMENTINES', 'currprice': 30.32, 'predictprice': 36.76}, {'item': 'CUCUMBERS', 'currprice': 14.7, 'predictprice': 14.65}, {'item': 'ENDIVE', 'currprice': 31.38, 'predictprice': 32.85}, {'item': 'GARLIC', 'currprice': 57.38, 'predictprice': 56.83}, {'item': 'GINGER+ROOT', 'currprice': 18.04, 'predictprice': 33.16}, {'item': 'GRAPEFRUIT', 'currprice': 22.5, 'predictprice': 39.05}, {'item': 'GRAPES', 'currprice': 13.0, 'predictprice': 20.64}, {'item': 'HONEYDEWS', 'currprice': 11.36, 'predictprice': 8.17}, {'item': 'KIWIFRUIT', 'currprice': 23.1, 'predictprice': 23.35}, {'item': 'LEMONS', 'currprice': 32.89, 'predictprice': 38.23}, {'item': 'LETTUCE%2C+ICEBERG', 'currprice': 10.14, 'predictprice': 11.38}, {'item': 'LETTUCE%2C+ROMAINE', 'currprice': 11.0, 'predictprice': 12.08}, {'item': 'LETTUCE%2C+RED+LEAF', 'currprice': 12.8, 'predictprice': 9.75}, {'item': 'LETTUCE%2C+GREEN+LEAF', 'currprice': 12.8, 'predictprice': 11.28}, {'item': 'LIMES', 'currprice': 16.65, 'predictprice': 18.23}, {'item': 'NECTARINES', 'currprice': 29.12, 'predictprice': 23.78}, {'item': 'OKRA', 'currprice': 22.33, 'predictprice': 33.97}, {'item': 'ORANGES', 'currprice': 32.36, 'predictprice': 48.79}, {'item': 'PEACHES', 'currprice': 37.43, 'predictprice': 22.58}, {'item': 'PEARS', 'currprice': 31.5, 'predictprice': 33.93}, {'item': 'PEAS+GREEN', 'currprice': 24.0, 'predictprice': 22.73}, {'item': 'PEPPERS%2C+BELL+TYPE', 'currprice': 17.98, 'predictprice': 10.91}, {'item': 'PINEAPPLES', 'currprice': 14.04, 'predictprice': 13.72}, {'item': 'PLUMS', 'currprice': 41.95, 'predictprice': 21.7}, {'item': 'POTATOES', 'currprice': 15.82, 'predictprice': 18.54}, {'item': 'RADISHES', 'currprice': 14.17, 'predictprice': 15.84}, {'item': 'RASPBERRIES', 'currprice': 26.76, 'predictprice': 19.12}, {'item': 'RHUBARB', 'currprice': 34.0, 'predictprice': 37.64}, {'item': 'SPINACH', 'currprice': 21.57, 'predictprice': 14.5}, {'item': 'SQUASH', 'currprice': 14.07, 'predictprice': 11.38}, {'item': 'STRAWBERRIES', 'currprice': 8.61, 'predictprice': 9.11}, {'item': 'BRUSSELS+SPROUTS', 'currprice': 17.0, 'predictprice': 35.5}]\n"
     ]
    }
   ],
   "source": [
    "# now read in each city's predictions - put each in a table in the database\n",
    "for c in predictions_names:\n",
    "\n",
    "    predictions = pd.read_csv(folder+c+'.csv', index_col = 0)\n",
    "    ## insert data into database from Python (proof of concept - this won't be useful for big data, of course)\n",
    "\n",
    "    predictions.to_sql(c, engine, if_exists='replace')\n",
    "    \n",
    "    con = psycopg2.connect(database = dbname, user = username)\n",
    "# test\n",
    "sql_query =\"\"\"\n",
    "SELECT \"Item\", \"Current Price\", \"3 Month Prediction\" FROM \"ny_prophet_predictions\";\n",
    "\"\"\"\n",
    "query_results=pd.read_sql_query(sql_query,con)\n",
    "predictions = []\n",
    "for i in range(0,query_results.shape[0]):\n",
    "    predictions.append(dict(item=query_results.iloc[i]['Item'], currprice=query_results.iloc[i]['Current Price'], predictprice=query_results.iloc[i]['3 Month Prediction']))\n",
    "print(predictions)\n",
    "\n",
    "# test\n",
    "sql_query =\"\"\"\n",
    "SELECT \"Item\", \"Current Price\", \"3 Month Prediction\" FROM \"la_prophet_predictions\";\n",
    "\"\"\"\n",
    "query_results=pd.read_sql_query(sql_query,con)\n",
    "predictions = []\n",
    "for i in range(0,query_results.shape[0]):\n",
    "    predictions.append(dict(item=query_results.iloc[i]['Item'], currprice=query_results.iloc[i]['Current Price'], predictprice=query_results.iloc[i]['3 Month Prediction']))\n",
    "print(predictions)\n",
    "\n",
    "con.close()"
   ]
  },
  {
   "cell_type": "code",
   "execution_count": 50,
   "metadata": {},
   "outputs": [
    {
     "name": "stdout",
     "output_type": "stream",
     "text": [
      "           yhat  yhat_upper\n",
      "0     19.725914   23.162578\n",
      "1     19.828087   23.356355\n",
      "2     19.866334   23.502175\n",
      "3     19.906191   23.836940\n",
      "4     19.947286   23.525083\n",
      "5     19.989192   23.453975\n",
      "6     20.114891   23.809727\n",
      "7     20.155004   23.821795\n",
      "8     20.193292   23.668237\n",
      "9     20.229197   24.017449\n",
      "10    20.262177   23.742581\n",
      "11    20.338699   23.816395\n",
      "12    20.355388   24.120819\n",
      "13    20.367178   23.911242\n",
      "14    20.373912   24.308897\n",
      "15    20.375537   24.112617\n",
      "16    20.350948   24.109327\n",
      "17    20.333939   23.831928\n",
      "18    20.313339   23.753943\n",
      "19    20.289818   24.085537\n",
      "20    20.264164   23.901990\n",
      "21    20.183780   23.608783\n",
      "22    20.159391   24.152432\n",
      "23    20.109842   23.809595\n",
      "24    20.120948   23.711556\n",
      "25    20.143411   23.703489\n",
      "26    20.176898   23.964006\n",
      "27    20.222233   23.609607\n",
      "28    20.280106   23.862617\n",
      "29    20.533589   24.233686\n",
      "...         ...         ...\n",
      "2742  33.432951   36.922293\n",
      "2743  33.642024   37.054237\n",
      "2744  33.848747   37.486036\n",
      "2745  34.052104   37.552133\n",
      "2746  34.251206   38.028220\n",
      "2747  34.445303   38.156485\n",
      "2748  34.633798   38.261225\n",
      "2749  34.816250   38.495316\n",
      "2750  34.992382   38.572492\n",
      "2751  35.162077   38.977869\n",
      "2752  35.325380   39.375118\n",
      "2753  35.482486   39.192426\n",
      "2754  35.633732   39.113672\n",
      "2755  35.779583   39.301404\n",
      "2756  35.920616   39.815394\n",
      "2757  36.057501   39.691014\n",
      "2758  36.190980   39.842008\n",
      "2759  36.321847   39.889764\n",
      "2760  36.450921   40.071321\n",
      "2761  36.579024   40.187401\n",
      "2762  36.706959   40.420647\n",
      "2763  36.835484   40.766207\n",
      "2764  36.965294   40.847962\n",
      "2765  37.096995   40.946398\n",
      "2766  37.231093   41.028103\n",
      "2767  37.367973   40.966802\n",
      "2768  37.507886   41.049812\n",
      "2769  37.650945   41.036092\n",
      "2770  37.797112   41.532270\n",
      "2771  37.946198   41.909470\n",
      "\n",
      "[2772 rows x 2 columns]\n",
      "0       2007-06-01\n",
      "1       2007-06-04\n",
      "2       2007-06-05\n",
      "3       2007-06-06\n",
      "4       2007-06-07\n",
      "5       2007-06-08\n",
      "6       2007-06-11\n",
      "7       2007-06-12\n",
      "8       2007-06-13\n",
      "9       2007-06-14\n",
      "10      2007-06-15\n",
      "11      2007-06-18\n",
      "12      2007-06-19\n",
      "13      2007-06-20\n",
      "14      2007-06-21\n",
      "15      2007-06-22\n",
      "16      2007-06-25\n",
      "17      2007-06-26\n",
      "18      2007-06-27\n",
      "19      2007-06-28\n",
      "20      2007-06-29\n",
      "21      2007-07-02\n",
      "22      2007-07-03\n",
      "23      2007-07-06\n",
      "24      2007-07-09\n",
      "25      2007-07-10\n",
      "26      2007-07-11\n",
      "27      2007-07-12\n",
      "28      2007-07-13\n",
      "29      2007-07-16\n",
      "           ...    \n",
      "2742    2018-07-31\n",
      "2743    2018-08-01\n",
      "2744    2018-08-02\n",
      "2745    2018-08-03\n",
      "2746    2018-08-04\n",
      "2747    2018-08-05\n",
      "2748    2018-08-06\n",
      "2749    2018-08-07\n",
      "2750    2018-08-08\n",
      "2751    2018-08-09\n",
      "2752    2018-08-10\n",
      "2753    2018-08-11\n",
      "2754    2018-08-12\n",
      "2755    2018-08-13\n",
      "2756    2018-08-14\n",
      "2757    2018-08-15\n",
      "2758    2018-08-16\n",
      "2759    2018-08-17\n",
      "2760    2018-08-18\n",
      "2761    2018-08-19\n",
      "2762    2018-08-20\n",
      "2763    2018-08-21\n",
      "2764    2018-08-22\n",
      "2765    2018-08-23\n",
      "2766    2018-08-24\n",
      "2767    2018-08-25\n",
      "2768    2018-08-26\n",
      "2769    2018-08-27\n",
      "2770    2018-08-28\n",
      "2771    2018-08-29\n",
      "Name: ds, Length: 2772, dtype: object\n"
     ]
    }
   ],
   "source": [
    "# now read in each item's data - put each in a table in the database\n",
    "citydict = {'NEW+YORK':'newyork', 'LOS+ANGELES':'losangeles'}\n",
    "producedict = {'APPLES':'apples','APRICOTS':'apricots','ASPARAGUS':'asparagus','AVOCADOS':'avocados',\n",
    "               'BANANAS':'bananas','BEANS':'beans','BEETS':'beets','BLACKBERRIES':'blackberries',\n",
    "               'BLUEBERRIES':'blueberries','BROCCOLI':'broccoli','CABBAGE':'cabbage','CANTALOUPS':'cantaloups',\n",
    "               'CARROTS':'carrots','CAULIFLOWER':'cauliflower','CELERY':'celery','CHERRIES':'cherries',\n",
    "               'CLEMENTINES':'clementines','CUCUMBERS':'cucumbers','ENDIVE':'endive','GARLIC':'garlic',\n",
    "               'GINGER+ROOT':'ginger_root','GRAPEFRUIT':'grapefruit','GRAPES':'grapes','HONEYDEWS':'honeydews',\n",
    "               'KIWIFRUIT':'kiwifruit','LEMONS':'lemons','LETTUCE%2C+ICEBERG':'iceberg_lettuce',\n",
    "               'LETTUCE%2C+ROMAINE':'romaine_lettuce','LETTUCE%2C+RED+LEAF':'red_lettuce',\n",
    "               'LETTUCE%2C+GREEN+LEAF':'green_lettuce','LIMES':'limes','NECTARINES':'nectarines',\n",
    "               'OKRA':'okra','ORANGES':'oranges','PEACHES':'peaches','PEARS':'pears','PEAS+GREEN':'peas',\n",
    "               'PEPPERS%2C+BELL+TYPE':'bell_peppers','PINEAPPLES':'pineapples','PLUMS':'plums',\n",
    "               'POTATOES':'potatoes','RADISHES':'radishes','RASPBERRIES':'raspberries','RHUBARB':'rhubarb',\n",
    "               'SPINACH':'spinach','SQUASH':'squash','STRAWBERRIES':'strawberries',\n",
    "               'BRUSSELS+SPROUTS':'brussels_sprouts'}\n",
    "\n",
    "cities = list(citydict.keys())\n",
    "veggies = list(producedict.keys())\n",
    "\n",
    "\"\"\"\n",
    "for c in cities:\n",
    "    for v in veggies:\n",
    "        data = pd.read_csv(c+'_'+v+'_prophet_output.csv',index_col = 0)\n",
    "        ## insert data into database from Python (proof of concept - this won't be useful for big data, of course)\n",
    "\n",
    "        data.to_sql(citydict[c]+'_'+producedict[v], engine, if_exists='replace')\n",
    "\"\"\" \n",
    "    \n",
    "# test   \n",
    "con = psycopg2.connect(database = dbname, user = username)\n",
    "\n",
    "sql_query =\"\"\"\n",
    "SELECT yhat, yhat_upper FROM \"newyork_apples\";\n",
    "\"\"\"\n",
    "query_results=pd.read_sql_query(sql_query,con)\n",
    "print(query_results)\n",
    "\n",
    "sql_query2 =\"\"\"\n",
    "SELECT yhat, yhat_upper, ds FROM %(tablename)s;\n",
    "\"\"\"\n",
    "query_results=pd.read_sql_query(sql_query2,con,params={'tablename':AsIs('newyork_apples')})\n",
    "print(query_results['ds'])\n",
    "\n",
    "con.close()"
   ]
  },
  {
   "cell_type": "code",
   "execution_count": null,
   "metadata": {},
   "outputs": [],
   "source": []
  },
  {
   "cell_type": "code",
   "execution_count": null,
   "metadata": {},
   "outputs": [],
   "source": []
  },
  {
   "cell_type": "code",
   "execution_count": null,
   "metadata": {},
   "outputs": [],
   "source": []
  },
  {
   "cell_type": "code",
   "execution_count": null,
   "metadata": {},
   "outputs": [],
   "source": []
  },
  {
   "cell_type": "code",
   "execution_count": null,
   "metadata": {},
   "outputs": [],
   "source": []
  }
 ],
 "metadata": {
  "kernelspec": {
   "display_name": "Python 3",
   "language": "python",
   "name": "python3"
  },
  "language_info": {
   "codemirror_mode": {
    "name": "ipython",
    "version": 3
   },
   "file_extension": ".py",
   "mimetype": "text/x-python",
   "name": "python",
   "nbconvert_exporter": "python",
   "pygments_lexer": "ipython3",
   "version": "3.6.4"
  }
 },
 "nbformat": 4,
 "nbformat_minor": 2
}
