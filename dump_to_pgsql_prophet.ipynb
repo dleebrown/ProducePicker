{
 "cells": [
  {
   "cell_type": "code",
   "execution_count": 1,
   "metadata": {},
   "outputs": [
    {
     "data": {
      "text/plain": [
       "'dump prophet results to postgres\\n'"
      ]
     },
     "execution_count": 1,
     "metadata": {},
     "output_type": "execute_result"
    }
   ],
   "source": [
    "\"\"\"dump prophet results to postgres\n",
    "\"\"\""
   ]
  },
  {
   "cell_type": "code",
   "execution_count": 2,
   "metadata": {},
   "outputs": [],
   "source": [
    "# import what I need\n",
    "from sqlalchemy import create_engine\n",
    "from sqlalchemy_utils import database_exists, create_database\n",
    "from sqlalchemy import text\n",
    "import psycopg2\n",
    "from psycopg2 import sql\n",
    "import pandas as pd\n",
    "from psycopg2.extensions import AsIs\n"
   ]
  },
  {
   "cell_type": "code",
   "execution_count": 3,
   "metadata": {},
   "outputs": [],
   "source": [
    "# define folder locations, vars\n",
    "predictions_names = ['ny_prophet_predictions', 'la_prophet_predictions']\n",
    "folder = './'\n",
    "\n",
    "dbname = 'produce_predictions'\n",
    "username = 'donald'"
   ]
  },
  {
   "cell_type": "code",
   "execution_count": 4,
   "metadata": {},
   "outputs": [
    {
     "name": "stdout",
     "output_type": "stream",
     "text": [
      "postgres://donald@localhost/produce_predictions\n"
     ]
    }
   ],
   "source": [
    "# engine\n",
    "engine = create_engine('postgres://%s@localhost/%s'%(username,dbname))\n",
    "print(engine.url)"
   ]
  },
  {
   "cell_type": "code",
   "execution_count": 5,
   "metadata": {},
   "outputs": [
    {
     "name": "stdout",
     "output_type": "stream",
     "text": [
      "True\n"
     ]
    }
   ],
   "source": [
    "## create a database (if it doesn't exist)\n",
    "if not database_exists(engine.url):\n",
    "    create_database(engine.url)\n",
    "print(database_exists(engine.url))"
   ]
  },
  {
   "cell_type": "code",
   "execution_count": 6,
   "metadata": {},
   "outputs": [
    {
     "name": "stdout",
     "output_type": "stream",
     "text": [
      "[{'item': 'APPLES', 'currprice': 28.0, 'predictprice': 35.24}, {'item': 'APRICOTS', 'currprice': 30.21, 'predictprice': 32.21}, {'item': 'ASPARAGUS', 'currprice': 18.16, 'predictprice': 31.17}, {'item': 'AVOCADOS', 'currprice': 29.1, 'predictprice': 55.86}, {'item': 'BANANAS', 'currprice': 16.25, 'predictprice': 15.91}, {'item': 'BEANS', 'currprice': 25.67, 'predictprice': 25.85}, {'item': 'BEETS', 'currprice': 14.07, 'predictprice': 13.47}, {'item': 'BLACKBERRIES', 'currprice': 35.97, 'predictprice': 22.35}, {'item': 'BLUEBERRIES', 'currprice': 25.1, 'predictprice': 21.08}, {'item': 'BROCCOLI', 'currprice': 24.39, 'predictprice': 21.34}, {'item': 'BRUSSELS+SPROUTS', 'currprice': 35.28, 'predictprice': 41.4}, {'item': 'CABBAGE', 'currprice': 14.04, 'predictprice': 12.84}, {'item': 'CANTALOUPS', 'currprice': 14.39, 'predictprice': 13.42}, {'item': 'CAULIFLOWER', 'currprice': 13.26, 'predictprice': 12.63}, {'item': 'CARROTS', 'currprice': 20.79, 'predictprice': 18.14}, {'item': 'CELERY', 'currprice': 19.38, 'predictprice': 16.87}, {'item': 'CHERRIES', 'currprice': 44.91, 'predictprice': 38.92}, {'item': 'CLEMENTINES', 'currprice': 9.5, 'predictprice': 7.26}, {'item': 'CUCUMBERS', 'currprice': 16.84, 'predictprice': 16.9}, {'item': 'ENDIVE', 'currprice': 13.5, 'predictprice': 12.71}, {'item': 'GARLIC', 'currprice': 50.77, 'predictprice': 57.53}, {'item': 'GINGER+ROOT', 'currprice': 27.64, 'predictprice': 27.25}, {'item': 'GRAPEFRUIT', 'currprice': 24.28, 'predictprice': 24.51}, {'item': 'GRAPES', 'currprice': 36.21, 'predictprice': 22.39}, {'item': 'HONEYDEWS', 'currprice': 21.21, 'predictprice': 14.67}, {'item': 'KIWIFRUIT', 'currprice': 18.14, 'predictprice': 27.71}, {'item': 'LEMONS', 'currprice': 36.97, 'predictprice': 38.99}, {'item': 'LETTUCE%2C+ICEBERG', 'currprice': 23.79, 'predictprice': 18.87}, {'item': 'LETTUCE%2C+ROMAINE', 'currprice': 14.33, 'predictprice': 15.15}, {'item': 'LETTUCE%2C+RED+LEAF', 'currprice': 14.96, 'predictprice': 15.6}, {'item': 'LETTUCE%2C+GREEN+LEAF', 'currprice': 14.35, 'predictprice': 15.9}, {'item': 'LIMES', 'currprice': 15.65, 'predictprice': 18.82}, {'item': 'NECTARINES', 'currprice': 32.05, 'predictprice': 28.53}, {'item': 'OKRA', 'currprice': 21.36, 'predictprice': 17.19}, {'item': 'ORANGES', 'currprice': 29.88, 'predictprice': 30.29}, {'item': 'PEACHES', 'currprice': 39.97, 'predictprice': 28.72}, {'item': 'PEARS', 'currprice': 40.25, 'predictprice': 39.43}, {'item': 'PEAS+GREEN', 'currprice': 17.84, 'predictprice': 23.44}, {'item': 'PEPPERS%2C+BELL+TYPE', 'currprice': 10.96, 'predictprice': 11.74}, {'item': 'PINEAPPLES', 'currprice': 9.02, 'predictprice': 11.63}, {'item': 'PLUMS', 'currprice': 44.76, 'predictprice': 30.1}, {'item': 'POTATOES', 'currprice': 20.98, 'predictprice': 23.86}, {'item': 'RADISHES', 'currprice': 12.06, 'predictprice': 13.41}, {'item': 'RASPBERRIES', 'currprice': 38.6, 'predictprice': 27.07}, {'item': 'RHUBARB', 'currprice': 26.86, 'predictprice': 32.5}, {'item': 'SPINACH', 'currprice': 23.98, 'predictprice': 19.63}, {'item': 'SQUASH', 'currprice': 16.28, 'predictprice': 17.05}, {'item': 'STRAWBERRIES', 'currprice': 10.86, 'predictprice': 14.39}]\n",
      "[{'item': 'APPLES', 'currprice': 25.99, 'predictprice': 27.1}, {'item': 'APRICOTS', 'currprice': 27.43, 'predictprice': 31.13}, {'item': 'ASPARAGUS', 'currprice': 19.55, 'predictprice': 32.28}, {'item': 'AVOCADOS', 'currprice': 38.42, 'predictprice': 56.98}, {'item': 'BANANAS', 'currprice': 14.1, 'predictprice': 15.82}, {'item': 'BEANS', 'currprice': 30.07, 'predictprice': 16.05}, {'item': 'BEETS', 'currprice': 11.0, 'predictprice': 9.49}, {'item': 'BLACKBERRIES', 'currprice': 26.29, 'predictprice': 17.28}, {'item': 'BLUEBERRIES', 'currprice': 28.0, 'predictprice': 13.71}, {'item': 'BROCCOLI', 'currprice': 12.52, 'predictprice': 13.58}, {'item': 'BRUSSELS+SPROUTS', 'currprice': 17.0, 'predictprice': 35.88}, {'item': 'CABBAGE', 'currprice': 22.1, 'predictprice': 10.77}, {'item': 'CANTALOUPS', 'currprice': 10.5, 'predictprice': 8.84}, {'item': 'CARROTS', 'currprice': 17.56, 'predictprice': 15.77}, {'item': 'CAULIFLOWER', 'currprice': 14.36, 'predictprice': 15.53}, {'item': 'CELERY', 'currprice': 10.0, 'predictprice': 10.67}, {'item': 'CHERRIES', 'currprice': 38.46, 'predictprice': 52.33}, {'item': 'CLEMENTINES', 'currprice': 32.77, 'predictprice': 35.73}, {'item': 'CUCUMBERS', 'currprice': 13.62, 'predictprice': 15.54}, {'item': 'ENDIVE', 'currprice': 31.38, 'predictprice': 32.68}, {'item': 'GARLIC', 'currprice': 58.33, 'predictprice': 56.01}, {'item': 'GINGER+ROOT', 'currprice': 30.98, 'predictprice': 33.4}, {'item': 'GRAPEFRUIT', 'currprice': 22.5, 'predictprice': 179.9}, {'item': 'GRAPES', 'currprice': 34.46, 'predictprice': 28.37}, {'item': 'HONEYDEWS', 'currprice': 12.17, 'predictprice': 8.25}, {'item': 'KIWIFRUIT', 'currprice': 23.24, 'predictprice': 24.62}, {'item': 'LEMONS', 'currprice': 35.52, 'predictprice': 38.2}, {'item': 'LETTUCE%2C+ICEBERG', 'currprice': 18.73, 'predictprice': 14.23}, {'item': 'LETTUCE%2C+ROMAINE', 'currprice': 11.0, 'predictprice': 13.02}, {'item': 'LETTUCE%2C+RED+LEAF', 'currprice': 11.5, 'predictprice': 10.48}, {'item': 'LETTUCE%2C+GREEN+LEAF', 'currprice': 12.0, 'predictprice': 12.33}, {'item': 'LIMES', 'currprice': 11.7, 'predictprice': 18.98}, {'item': 'NECTARINES', 'currprice': 23.0, 'predictprice': 21.86}, {'item': 'OKRA', 'currprice': 22.79, 'predictprice': 35.16}, {'item': 'ORANGES', 'currprice': 35.63, 'predictprice': 34.71}, {'item': 'PEACHES', 'currprice': 24.17, 'predictprice': 21.33}, {'item': 'PEARS', 'currprice': 33.04, 'predictprice': 34.93}, {'item': 'PEAS+GREEN', 'currprice': 16.64, 'predictprice': 22.39}, {'item': 'PEPPERS%2C+BELL+TYPE', 'currprice': 15.81, 'predictprice': 10.3}, {'item': 'PINEAPPLES', 'currprice': 10.15, 'predictprice': 15.11}, {'item': 'PLUMS', 'currprice': 30.54, 'predictprice': 23.23}, {'item': 'POTATOES', 'currprice': 16.38, 'predictprice': 18.86}, {'item': 'RADISHES', 'currprice': 18.9, 'predictprice': 16.53}, {'item': 'RASPBERRIES', 'currprice': 24.71, 'predictprice': 20.38}, {'item': 'RHUBARB', 'currprice': 34.0, 'predictprice': 37.41}, {'item': 'SPINACH', 'currprice': 22.01, 'predictprice': 15.21}, {'item': 'SQUASH', 'currprice': 7.64, 'predictprice': 11.32}, {'item': 'STRAWBERRIES', 'currprice': 8.86, 'predictprice': 9.48}]\n"
     ]
    }
   ],
   "source": [
    "# now read in each city's predictions - put each in a table in the database\n",
    "for c in predictions_names:\n",
    "\n",
    "    predictions = pd.read_csv(folder+c+'.csv', index_col = 0)\n",
    "    ## insert data into database from Python (proof of concept - this won't be useful for big data, of course)\n",
    "\n",
    "    predictions.to_sql(c, engine, if_exists='replace')\n",
    "    \n",
    "    con = psycopg2.connect(database = dbname, user = username)\n",
    "# test\n",
    "sql_query =\"\"\"\n",
    "SELECT \"Item\", \"Current Price\", \"3 Month Prediction\" FROM \"ny_prophet_predictions\";\n",
    "\"\"\"\n",
    "query_results=pd.read_sql_query(sql_query,con)\n",
    "predictions = []\n",
    "for i in range(0,query_results.shape[0]):\n",
    "    predictions.append(dict(item=query_results.iloc[i]['Item'], currprice=query_results.iloc[i]['Current Price'], predictprice=query_results.iloc[i]['3 Month Prediction']))\n",
    "print(predictions)\n",
    "\n",
    "# test\n",
    "sql_query =\"\"\"\n",
    "SELECT \"Item\", \"Current Price\", \"3 Month Prediction\" FROM \"la_prophet_predictions\";\n",
    "\"\"\"\n",
    "query_results=pd.read_sql_query(sql_query,con)\n",
    "predictions = []\n",
    "for i in range(0,query_results.shape[0]):\n",
    "    predictions.append(dict(item=query_results.iloc[i]['Item'], currprice=query_results.iloc[i]['Current Price'], predictprice=query_results.iloc[i]['3 Month Prediction']))\n",
    "print(predictions)\n",
    "\n",
    "con.close()"
   ]
  },
  {
   "cell_type": "code",
   "execution_count": 7,
   "metadata": {},
   "outputs": [
    {
     "name": "stdout",
     "output_type": "stream",
     "text": [
      "           yhat  yhat_upper\n",
      "0     24.989577   28.933822\n",
      "1     25.068215   28.855758\n",
      "2     25.098412   29.134074\n",
      "3     25.129793   29.177245\n",
      "4     25.161824   29.129069\n",
      "5     25.193953   29.163243\n",
      "6     25.285358   29.164465\n",
      "7     25.312380   29.171186\n",
      "8     25.336862   29.369719\n",
      "9     25.358381   29.422846\n",
      "10    25.376576   29.347205\n",
      "11    25.408699   29.244485\n",
      "12    25.411498   29.255458\n",
      "13    25.410361   29.278780\n",
      "14    25.405443   29.537929\n",
      "15    25.396997   29.401483\n",
      "16    25.354475   29.467007\n",
      "17    25.336357   29.054463\n",
      "18    25.317365   29.353419\n",
      "19    25.298268   29.504608\n",
      "20    25.279889   29.160023\n",
      "21    25.237942   29.261181\n",
      "22    25.231434   29.183342\n",
      "23    25.247223   28.920038\n",
      "24    25.333685   29.532340\n",
      "25    25.381583   29.374988\n",
      "26    25.439953   29.548841\n",
      "27    25.509209   29.536400\n",
      "28    25.589659   29.385313\n",
      "29    25.899509   29.812264\n",
      "...         ...         ...\n",
      "2759  37.792176   42.124625\n",
      "2760  37.944957   41.785868\n",
      "2761  38.098627   42.017005\n",
      "2762  38.253205   42.307790\n",
      "2763  38.408623   42.256756\n",
      "2764  38.564718   42.597894\n",
      "2765  38.721235   42.545526\n",
      "2766  38.877823   42.982904\n",
      "2767  39.034044   43.130338\n",
      "2768  39.189368   43.287092\n",
      "2769  39.343189   43.306478\n",
      "2770  39.494825   43.564980\n",
      "2771  39.643531   43.548000\n",
      "2772  39.788510   43.667091\n",
      "2773  39.928921   43.653346\n",
      "2774  40.063897   43.914393\n",
      "2775  40.192555   44.078146\n",
      "2776  40.314011   44.427172\n",
      "2777  40.427396   44.600435\n",
      "2778  40.531867   44.670226\n",
      "2779  40.626624   44.480996\n",
      "2780  40.710923   44.926045\n",
      "2781  40.784090   44.811245\n",
      "2782  40.845527   44.804624\n",
      "2783  40.894733   44.574437\n",
      "2784  40.931304   44.799656\n",
      "2785  40.954945   44.856001\n",
      "2786  40.965475   45.119164\n",
      "2787  40.962832   45.124796\n",
      "2788  40.947076   44.961349\n",
      "\n",
      "[2789 rows x 2 columns]\n",
      "0       2007-06-01\n",
      "1       2007-06-04\n",
      "2       2007-06-05\n",
      "3       2007-06-06\n",
      "4       2007-06-07\n",
      "5       2007-06-08\n",
      "6       2007-06-11\n",
      "7       2007-06-12\n",
      "8       2007-06-13\n",
      "9       2007-06-14\n",
      "10      2007-06-15\n",
      "11      2007-06-18\n",
      "12      2007-06-19\n",
      "13      2007-06-20\n",
      "14      2007-06-21\n",
      "15      2007-06-22\n",
      "16      2007-06-25\n",
      "17      2007-06-26\n",
      "18      2007-06-27\n",
      "19      2007-06-28\n",
      "20      2007-06-29\n",
      "21      2007-07-02\n",
      "22      2007-07-03\n",
      "23      2007-07-06\n",
      "24      2007-07-09\n",
      "25      2007-07-10\n",
      "26      2007-07-11\n",
      "27      2007-07-12\n",
      "28      2007-07-13\n",
      "29      2007-07-16\n",
      "           ...    \n",
      "2759    2018-08-25\n",
      "2760    2018-08-26\n",
      "2761    2018-08-27\n",
      "2762    2018-08-28\n",
      "2763    2018-08-29\n",
      "2764    2018-08-30\n",
      "2765    2018-08-31\n",
      "2766    2018-09-01\n",
      "2767    2018-09-02\n",
      "2768    2018-09-03\n",
      "2769    2018-09-04\n",
      "2770    2018-09-05\n",
      "2771    2018-09-06\n",
      "2772    2018-09-07\n",
      "2773    2018-09-08\n",
      "2774    2018-09-09\n",
      "2775    2018-09-10\n",
      "2776    2018-09-11\n",
      "2777    2018-09-12\n",
      "2778    2018-09-13\n",
      "2779    2018-09-14\n",
      "2780    2018-09-15\n",
      "2781    2018-09-16\n",
      "2782    2018-09-17\n",
      "2783    2018-09-18\n",
      "2784    2018-09-19\n",
      "2785    2018-09-20\n",
      "2786    2018-09-21\n",
      "2787    2018-09-22\n",
      "2788    2018-09-23\n",
      "Name: ds, Length: 2789, dtype: object\n"
     ]
    }
   ],
   "source": [
    "# now read in each item's data - put each in a table in the database\n",
    "citydict = {'NEW+YORK':'newyork', 'LOS+ANGELES':'losangeles'}\n",
    "producedict = {'APPLES':'apples','APRICOTS':'apricots','ASPARAGUS':'asparagus','AVOCADOS':'avocados',\n",
    "               'BANANAS':'bananas','BEANS':'beans','BEETS':'beets','BLACKBERRIES':'blackberries',\n",
    "               'BLUEBERRIES':'blueberries','BROCCOLI':'broccoli','CABBAGE':'cabbage','CANTALOUPS':'cantaloups',\n",
    "               'CARROTS':'carrots','CAULIFLOWER':'cauliflower','CELERY':'celery','CHERRIES':'cherries',\n",
    "               'CLEMENTINES':'clementines','CUCUMBERS':'cucumbers','ENDIVE':'endive','GARLIC':'garlic',\n",
    "               'GINGER+ROOT':'ginger_root','GRAPEFRUIT':'grapefruit','GRAPES':'grapes','HONEYDEWS':'honeydews',\n",
    "               'KIWIFRUIT':'kiwifruit','LEMONS':'lemons','LETTUCE%2C+ICEBERG':'iceberg_lettuce',\n",
    "               'LETTUCE%2C+ROMAINE':'romaine_lettuce','LETTUCE%2C+RED+LEAF':'red_lettuce',\n",
    "               'LETTUCE%2C+GREEN+LEAF':'green_lettuce','LIMES':'limes','NECTARINES':'nectarines',\n",
    "               'OKRA':'okra','ORANGES':'oranges','PEACHES':'peaches','PEARS':'pears','PEAS+GREEN':'peas',\n",
    "               'PEPPERS%2C+BELL+TYPE':'bell_peppers','PINEAPPLES':'pineapples','PLUMS':'plums',\n",
    "               'POTATOES':'potatoes','RADISHES':'radishes','RASPBERRIES':'raspberries','RHUBARB':'rhubarb',\n",
    "               'SPINACH':'spinach','SQUASH':'squash','STRAWBERRIES':'strawberries',\n",
    "               'BRUSSELS+SPROUTS':'brussels_sprouts'}\n",
    "\n",
    "cities = list(citydict.keys())\n",
    "veggies = list(producedict.keys())\n",
    "\n",
    "for c in cities:\n",
    "    for v in veggies:\n",
    "        data = pd.read_csv(c+'_'+v+'_prophet_output.csv',index_col = 0)\n",
    "        ## insert data into database from Python (proof of concept - this won't be useful for big data, of course)\n",
    "\n",
    "        data.to_sql(citydict[c]+'_'+producedict[v], engine, if_exists='replace')\n",
    "    \n",
    "# test   \n",
    "con = psycopg2.connect(database = dbname, user = username)\n",
    "\n",
    "sql_query =\"\"\"\n",
    "SELECT yhat, yhat_upper FROM \"newyork_apples\";\n",
    "\"\"\"\n",
    "query_results=pd.read_sql_query(sql_query,con)\n",
    "print(query_results)\n",
    "\n",
    "sql_query2 =\"\"\"\n",
    "SELECT yhat, yhat_upper, ds FROM %(tablename)s;\n",
    "\"\"\"\n",
    "query_results=pd.read_sql_query(sql_query2,con,params={'tablename':AsIs('newyork_apples')})\n",
    "print(query_results['ds'])\n",
    "\n",
    "con.close()"
   ]
  },
  {
   "cell_type": "code",
   "execution_count": null,
   "metadata": {},
   "outputs": [],
   "source": []
  },
  {
   "cell_type": "code",
   "execution_count": null,
   "metadata": {},
   "outputs": [],
   "source": []
  },
  {
   "cell_type": "code",
   "execution_count": null,
   "metadata": {},
   "outputs": [],
   "source": []
  },
  {
   "cell_type": "code",
   "execution_count": null,
   "metadata": {},
   "outputs": [],
   "source": []
  },
  {
   "cell_type": "code",
   "execution_count": null,
   "metadata": {},
   "outputs": [],
   "source": []
  }
 ],
 "metadata": {
  "kernelspec": {
   "display_name": "Python 3",
   "language": "python",
   "name": "python3"
  },
  "language_info": {
   "codemirror_mode": {
    "name": "ipython",
    "version": 3
   },
   "file_extension": ".py",
   "mimetype": "text/x-python",
   "name": "python",
   "nbconvert_exporter": "python",
   "pygments_lexer": "ipython3",
   "version": "3.6.4"
  }
 },
 "nbformat": 4,
 "nbformat_minor": 2
}
