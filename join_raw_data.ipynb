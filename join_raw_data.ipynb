{
 "cells": [
  {
   "cell_type": "code",
   "execution_count": 1,
   "metadata": {},
   "outputs": [
    {
     "data": {
      "text/plain": [
       "\"loops over raw data downloaded by scrape_usda.ipynb and just concatenates \\neach produce item's data across all years by city\\n\""
      ]
     },
     "execution_count": 1,
     "metadata": {},
     "output_type": "execute_result"
    }
   ],
   "source": [
    "\"\"\"loops over raw data downloaded by scrape_usda.ipynb and just concatenates \n",
    "each produce item's data across all years by city\n",
    "\"\"\""
   ]
  },
  {
   "cell_type": "code",
   "execution_count": 2,
   "metadata": {},
   "outputs": [],
   "source": [
    "import pandas as pd\n",
    "import os\n",
    "raw_dir = './raw_data/'\n",
    "save_dir = './concat_data/'"
   ]
  },
  {
   "cell_type": "code",
   "execution_count": 3,
   "metadata": {},
   "outputs": [],
   "source": [
    "# concat function\n",
    "def concat_add(input_array, city, veg, yr):\n",
    "    new_data = pd.read_html(raw_dir+str(city)+'_'+str(veg)+'_'+str(yr)+'.html', header=0)[0]\n",
    "    output_data = pd.concat([input_array, new_data], ignore_index=True)\n",
    "    return output_data"
   ]
  },
  {
   "cell_type": "code",
   "execution_count": 4,
   "metadata": {},
   "outputs": [],
   "source": [
    "# just loop over the downloaded files and combine same veggies from one city across all years\n",
    "cities = ['NEW+YORK', 'LOS+ANGELES']\n",
    "veggies = ['APPLES','APRICOTS','ASPARAGUS','AVOCADOS','BANANAS','BEANS','BEETS','BLACKBERRIES','BLUEBERRIES','BROCCOLI','BRUSSELS+SPROUTS','CABBAGE','CANTALOUPS','CARROTS','CAULIFLOWER','CELERY','CHERRIES','CLEMENTINES','CORN-SWEET','CRANBERRIES', 'CUCUMBERS','EGGPLANT','ENDIVE','GARLIC','GINGER+ROOT','GRAPEFRUIT','GRAPES','HONEYDEWS','KIWIFRUIT','LEMONS','LETTUCE%2C+ICEBERG','LETTUCE%2C+ROMAINE','LETTUCE%2C+RED+LEAF','LETTUCE%2C+GREEN+LEAF', 'LIMES','MANGOES','MUSHROOMS','NECTARINES','OKRA','ORANGES','PEACHES','PEARS','PEAS+GREEN','PEPPERS%2C+BELL+TYPE','PINEAPPLES','PLUMS','POTATOES','PUMPKINS','RADISHES','RASPBERRIES','RHUBARB','SPINACH','SQUASH','STRAWBERRIES','SWEET+POTATOES','TOMATOES','TURNIPS','WATERMELONS']\n",
    "years = ['2007','2008', '2009','2010','2011','2012','2013','2014','2015','2016','2017', '2018']"
   ]
  },
  {
   "cell_type": "code",
   "execution_count": null,
   "metadata": {},
   "outputs": [
    {
     "name": "stdout",
     "output_type": "stream",
     "text": [
      "joined APPLES\n",
      "joined APRICOTS\n",
      "joined ASPARAGUS\n",
      "joined AVOCADOS\n",
      "joined BANANAS\n",
      "joined BEANS\n",
      "joined BEETS\n",
      "joined BLACKBERRIES\n",
      "joined BLUEBERRIES\n",
      "joined BROCCOLI\n",
      "joined BRUSSELS+SPROUTS\n",
      "joined CABBAGE\n",
      "joined CANTALOUPS\n",
      "joined CARROTS\n",
      "joined CAULIFLOWER\n",
      "joined CELERY\n",
      "joined CHERRIES\n",
      "joined CLEMENTINES\n",
      "joined CORN-SWEET\n",
      "joined CRANBERRIES\n",
      "joined CUCUMBERS\n"
     ]
    }
   ],
   "source": [
    "# loop\n",
    "for c in cities:\n",
    "    for v in veggies:\n",
    "        if str(c)+'_'+str(v)+'_ALL.csv' not in os.listdir(save_dir):\n",
    "            for y in years:\n",
    "                data_exists = True\n",
    "                if y == years[0]:\n",
    "                    try:\n",
    "                        first_data = pd.read_html(raw_dir+str(c)+'_'+str(v)+'_'+str(y)+'.html', header=0)[0]\n",
    "                    except IndexError:\n",
    "                        print('no data for '+v+', skipping...')\n",
    "                        data_exists = False\n",
    "                        break\n",
    "                else:\n",
    "                    first_data = concat_add(first_data, c, v, y)\n",
    "            if data_exists:\n",
    "                first_data.to_csv(save_dir+str(c)+'_'+str(v)+'_ALL.csv')\n",
    "                print('joined '+v)"
   ]
  },
  {
   "cell_type": "code",
   "execution_count": null,
   "metadata": {},
   "outputs": [],
   "source": []
  },
  {
   "cell_type": "code",
   "execution_count": null,
   "metadata": {},
   "outputs": [],
   "source": []
  }
 ],
 "metadata": {
  "kernelspec": {
   "display_name": "Python 3",
   "language": "python",
   "name": "python3"
  },
  "language_info": {
   "codemirror_mode": {
    "name": "ipython",
    "version": 3
   },
   "file_extension": ".py",
   "mimetype": "text/x-python",
   "name": "python",
   "nbconvert_exporter": "python",
   "pygments_lexer": "ipython3",
   "version": "3.6.4"
  }
 },
 "nbformat": 4,
 "nbformat_minor": 2
}
