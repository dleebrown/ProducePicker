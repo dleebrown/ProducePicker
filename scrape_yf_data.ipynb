{
 "cells": [
  {
   "cell_type": "code",
   "execution_count": null,
   "metadata": {},
   "outputs": [],
   "source": [
    "\"\"\"scrape some yahoo finance tickers in order to do some extra feature engineering with the xgboost model\n",
    "note that this requires the development release of pandas_datareader\n",
    "\"\"\""
   ]
  },
  {
   "cell_type": "code",
   "execution_count": 2,
   "metadata": {},
   "outputs": [],
   "source": [
    "import pandas as pd\n",
    "import pandas_datareader as pdr\n",
    "import datetime"
   ]
  },
  {
   "cell_type": "code",
   "execution_count": 3,
   "metadata": {},
   "outputs": [],
   "source": [
    "# first define the yahoo finance tickers I want\n",
    "tickers = ['SYY', 'FDP', 'SENEA', 'CAG', 'KR']"
   ]
  },
  {
   "cell_type": "code",
   "execution_count": 5,
   "metadata": {},
   "outputs": [
    {
     "data": {
      "text/html": [
       "<div>\n",
       "<style scoped>\n",
       "    .dataframe tbody tr th:only-of-type {\n",
       "        vertical-align: middle;\n",
       "    }\n",
       "\n",
       "    .dataframe tbody tr th {\n",
       "        vertical-align: top;\n",
       "    }\n",
       "\n",
       "    .dataframe thead th {\n",
       "        text-align: right;\n",
       "    }\n",
       "</style>\n",
       "<table border=\"1\" class=\"dataframe\">\n",
       "  <thead>\n",
       "    <tr style=\"text-align: right;\">\n",
       "      <th></th>\n",
       "      <th>High</th>\n",
       "      <th>Low</th>\n",
       "      <th>Open</th>\n",
       "      <th>Close</th>\n",
       "      <th>Volume</th>\n",
       "      <th>Adj Close</th>\n",
       "    </tr>\n",
       "    <tr>\n",
       "      <th>Date</th>\n",
       "      <th></th>\n",
       "      <th></th>\n",
       "      <th></th>\n",
       "      <th></th>\n",
       "      <th></th>\n",
       "      <th></th>\n",
       "    </tr>\n",
       "  </thead>\n",
       "  <tbody>\n",
       "    <tr>\n",
       "      <th>2018-04-02</th>\n",
       "      <td>59.930000</td>\n",
       "      <td>58.119999</td>\n",
       "      <td>59.880001</td>\n",
       "      <td>58.360001</td>\n",
       "      <td>3255300.0</td>\n",
       "      <td>58.016766</td>\n",
       "    </tr>\n",
       "    <tr>\n",
       "      <th>2018-04-03</th>\n",
       "      <td>59.520000</td>\n",
       "      <td>58.500000</td>\n",
       "      <td>58.560001</td>\n",
       "      <td>59.439999</td>\n",
       "      <td>2362000.0</td>\n",
       "      <td>59.090408</td>\n",
       "    </tr>\n",
       "    <tr>\n",
       "      <th>2018-04-04</th>\n",
       "      <td>61.470001</td>\n",
       "      <td>59.060001</td>\n",
       "      <td>59.060001</td>\n",
       "      <td>61.209999</td>\n",
       "      <td>3631500.0</td>\n",
       "      <td>60.850002</td>\n",
       "    </tr>\n",
       "    <tr>\n",
       "      <th>2018-04-05</th>\n",
       "      <td>61.259998</td>\n",
       "      <td>60.139999</td>\n",
       "      <td>61.040001</td>\n",
       "      <td>60.310001</td>\n",
       "      <td>3912000.0</td>\n",
       "      <td>60.310001</td>\n",
       "    </tr>\n",
       "  </tbody>\n",
       "</table>\n",
       "</div>"
      ],
      "text/plain": [
       "                 High        Low       Open      Close     Volume  Adj Close\n",
       "Date                                                                        \n",
       "2018-04-02  59.930000  58.119999  59.880001  58.360001  3255300.0  58.016766\n",
       "2018-04-03  59.520000  58.500000  58.560001  59.439999  2362000.0  59.090408\n",
       "2018-04-04  61.470001  59.060001  59.060001  61.209999  3631500.0  60.850002\n",
       "2018-04-05  61.259998  60.139999  61.040001  60.310001  3912000.0  60.310001"
      ]
     },
     "execution_count": 5,
     "metadata": {},
     "output_type": "execute_result"
    }
   ],
   "source": [
    "# snag data from april 1-5 to show what the data looks like:\n",
    "start_ex = datetime.datetime(2018, 4, 1)\n",
    "end_ex = datetime.datetime(2018, 4, 5)\n",
    "\n",
    "example = pdr.get_data_yahoo(tickers[0], start_ex, end_ex)\n",
    "example"
   ]
  },
  {
   "cell_type": "code",
   "execution_count": 19,
   "metadata": {},
   "outputs": [],
   "source": [
    "# now grab data for the tickers from 2007-01-01 until today\n",
    "start = datetime.datetime(2007, 1, 1)\n",
    "end = datetime.date.today()\n",
    "\n",
    "first_ticker = pdr.get_data_yahoo(tickers[0], start, end)\n",
    "\n",
    "first_ticker = first_ticker['Adj Close'].rename(tickers[0])\n",
    "\n",
    "# now concat the other tickers\n",
    "for i in tickers[1:]:\n",
    "    ticker_data = pdr.get_data_yahoo(i, start, end)\n",
    "    # the data are in reverse chronological order so sort and reset the indices\n",
    "    ticker_data = ticker_data['Adj Close'].rename(i)\n",
    "    first_ticker = pd.concat([first_ticker, ticker_data], axis=1)\n",
    "    \n",
    "first_ticker.to_csv('./alternate_data/yftickers.csv')\n"
   ]
  },
  {
   "cell_type": "code",
   "execution_count": null,
   "metadata": {},
   "outputs": [],
   "source": []
  }
 ],
 "metadata": {
  "kernelspec": {
   "display_name": "Python 3",
   "language": "python",
   "name": "python3"
  },
  "language_info": {
   "codemirror_mode": {
    "name": "ipython",
    "version": 3
   },
   "file_extension": ".py",
   "mimetype": "text/x-python",
   "name": "python",
   "nbconvert_exporter": "python",
   "pygments_lexer": "ipython3",
   "version": "3.6.4"
  }
 },
 "nbformat": 4,
 "nbformat_minor": 2
}
