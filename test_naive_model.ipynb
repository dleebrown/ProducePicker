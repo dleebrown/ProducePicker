{
 "cells": [
  {
   "cell_type": "code",
   "execution_count": 1,
   "metadata": {},
   "outputs": [],
   "source": [
    "# working to read in the trimmed produce data, and then split it into training and testing sets\n",
    "# splitting is done using a walk-forward method with a windowed test set of 3 years data incremented in 3 month blocks\n",
    "# training is always 3 years, test is always 3 months in advance\n",
    "import pandas as pd\n",
    "import numpy as np\n",
    "\n",
    "data_dir = './trimmed_data_and_plots/'"
   ]
  },
  {
   "cell_type": "code",
   "execution_count": 2,
   "metadata": {},
   "outputs": [],
   "source": [
    "def generate_predict_start_dates(start_date, end_date, train_length, test_length, window_step):\n",
    "    train_time = pd.to_timedelta(pd.np.ceil(train_length), unit=\"D\")\n",
    "    test_time = pd.to_timedelta(pd.np.ceil(test_length), unit=\"D\")\n",
    "    window_time = pd.to_timedelta(pd.np.ceil(window_step), unit='D')\n",
    "    \n",
    "    output_dates = [pd.to_datetime(start_date) + train_time]\n",
    "    most_recent_date = pd.to_datetime(start_date) + train_time\n",
    "    while most_recent_date + train_time + test_time <= pd.to_datetime(end_date):\n",
    "        output_dates.append(most_recent_date + window_time)\n",
    "        most_recent_date = most_recent_date + window_time\n",
    "    return(output_dates)"
   ]
  },
  {
   "cell_type": "code",
   "execution_count": 3,
   "metadata": {},
   "outputs": [],
   "source": [
    "def read_trimmed_data(city, veggie):\n",
    "    # reads in cleaned .csv data for one city and veggie, returns\n",
    "    output_data = pd.read_csv(data_dir+veggie+'_'+city+'_TRIM.csv')\n",
    "    output_data['Date'] = pd.to_datetime(output_data['Date'])\n",
    "    output_data = output_data.sort_values(by='Date')\n",
    "    output_data = output_data.reset_index(drop=True)\n",
    "    return output_data"
   ]
  },
  {
   "cell_type": "code",
   "execution_count": 4,
   "metadata": {},
   "outputs": [],
   "source": [
    "def nearest_date(dates, targdate):\n",
    "    for i in dates:\n",
    "        i = i.to_pydatetime()\n",
    "    nearest = min(dates, key=lambda x: abs(x - targdate))\n",
    "    timedelta = abs(nearest - targdate)\n",
    "    return nearest, timedelta"
   ]
  },
  {
   "cell_type": "code",
   "execution_count": 5,
   "metadata": {},
   "outputs": [],
   "source": [
    "def get_train_test(veggie_data, start_date, train_days, predict_days):\n",
    "    all_dates = pd.to_datetime(veggie_data['Date'])\n",
    "    train_time = pd.to_timedelta(pd.np.ceil(train_days), unit=\"D\")\n",
    "    test_time = pd.to_timedelta(pd.np.ceil(predict_days), unit=\"D\")\n",
    "    start_date_train = start_date - train_time\n",
    "    nearest_date_train, deltatrain = nearest_date(all_dates, start_date_train)\n",
    "    end_date_test = start_date + test_time\n",
    "    nearest_date_test, deltatest = nearest_date(all_dates, end_date_test)\n",
    "    training_set = veggie_data[(veggie_data['Date'] >= nearest_date_train) & (veggie_data['Date'] < start_date)]\n",
    "    test_set = veggie_data[(veggie_data['Date'] >= start_date) & (veggie_data['Date'] <= nearest_date_test)]\n",
    "    return(training_set, test_set)"
   ]
  },
  {
   "cell_type": "code",
   "execution_count": 6,
   "metadata": {},
   "outputs": [],
   "source": [
    "def naive_historical_average(veggie_data, start_dates, train_days, predict_days):\n",
    "    train_time = pd.to_timedelta(pd.np.ceil(train_days), unit=\"D\")\n",
    "    test_time = pd.to_timedelta(pd.np.ceil(predict_days), unit=\"D\")\n",
    "    one_year = pd.to_timedelta(pd.np.ceil(365), unit='D')\n",
    "    # first compute the historical average values\n",
    "    predictions = []\n",
    "    actuals = []\n",
    "    for i in start_dates:\n",
    "        current_train_data, current_test_data = get_train_test(veggie_data, i, train_days, predict_days)\n",
    "        # at some point i'll want to make this more intelligent and handle missing data\n",
    "        actuals.append(current_test_data['Average Price'].median())\n",
    "        # now do the naive historical average model\n",
    "        num_years = train_days // 365\n",
    "        historical_medians = []\n",
    "        for y in range(num_years):\n",
    "            historical_data = veggie_data[(veggie_data['Date'] >= (i-(y+1)*one_year)) & (veggie_data['Date'] <= (i-(y+1)*one_year + test_time))]\n",
    "            historical_medians.append(historical_data['Average Price'].median())\n",
    "        predictions.append(pd.Series(historical_medians).median())\n",
    "    return predictions, actuals\n"
   ]
  },
  {
   "cell_type": "code",
   "execution_count": 7,
   "metadata": {},
   "outputs": [],
   "source": [
    "# define some variables\n",
    "cities = ['NEW+YORK']\n",
    "veggies = ['APPLES','APRICOTS','ASPARAGUS','AVOCADOS','BANANAS','BEANS','BEETS','BLACKBERRIES','BLUEBERRIES','BROCCOLI','BRUSSELS+SPROUTS','CABBAGE','CANTALOUPS','CARROTS','CAULIFLOWER','CELERY','CHERRIES','CLEMENTINES', 'CUCUMBERS','ENDIVE','GARLIC','GINGER+ROOT','GRAPEFRUIT','GRAPES','HONEYDEWS','KIWIFRUIT','LEMONS','LETTUCE%2C+ICEBERG','LETTUCE%2C+ROMAINE','LETTUCE%2C+RED+LEAF','LETTUCE%2C+GREEN+LEAF', 'LIMES','MANGOES','NECTARINES','OKRA','ORANGES','PEACHES','PEARS','PEAS+GREEN','PEPPERS%2C+BELL+TYPE','PINEAPPLES','PLUMS','POTATOES','RADISHES','RASPBERRIES','RHUBARB','SPINACH','SQUASH','STRAWBERRIES','TURNIPS']\n",
    "\n",
    "master_start_date = '20070601'\n",
    "master_end_date = '20170531'\n",
    "# three year train, 3 month test\n",
    "train_length = 365*3\n",
    "predict_length = 90\n",
    "# increment window of train/test before generating new set\n",
    "increment_test = 115"
   ]
  },
  {
   "cell_type": "code",
   "execution_count": 27,
   "metadata": {},
   "outputs": [
    {
     "data": {
      "text/html": [
       "<div>\n",
       "<style scoped>\n",
       "    .dataframe tbody tr th:only-of-type {\n",
       "        vertical-align: middle;\n",
       "    }\n",
       "\n",
       "    .dataframe tbody tr th {\n",
       "        vertical-align: top;\n",
       "    }\n",
       "\n",
       "    .dataframe thead th {\n",
       "        text-align: right;\n",
       "    }\n",
       "</style>\n",
       "<table border=\"1\" class=\"dataframe\">\n",
       "  <thead>\n",
       "    <tr style=\"text-align: right;\">\n",
       "      <th></th>\n",
       "      <th>Item</th>\n",
       "      <th>PCT Miss</th>\n",
       "    </tr>\n",
       "  </thead>\n",
       "  <tbody>\n",
       "    <tr>\n",
       "      <th>0</th>\n",
       "      <td>APRICOTS</td>\n",
       "      <td>0.156757</td>\n",
       "    </tr>\n",
       "  </tbody>\n",
       "</table>\n",
       "</div>"
      ],
      "text/plain": [
       "       Item  PCT Miss\n",
       "0  APRICOTS  0.156757"
      ]
     },
     "execution_count": 27,
     "metadata": {},
     "output_type": "execute_result"
    }
   ],
   "source": [
    "datelist = generate_predict_start_dates(master_start_date, master_end_date, train_length, predict_length, increment_test)\n",
    "\n",
    "output_naive = pd.DataFrame(datelist).rename(index=int, columns={0: \"Date\"})\n",
    "\n",
    "labels = ['Item', 'PCT Miss']\n",
    "overall_stats_naive = []\n",
    "\n",
    "for c in cities:\n",
    "    for v in veggies:\n",
    "        current_veggie = read_trimmed_data(c, v)\n",
    "        pred, act = naive_historical_average(current_veggie, datelist, train_length, predict_length)\n",
    "        output_naive = pd.concat([output_naive, pd.Series(pred).rename(v+'_PRED'), pd.Series(act).rename(v+'_ACT')], axis=1)\n",
    "        pct_miss = abs((output_naive[v + '_ACT'] - output_naive[v + '_PRED'])/output_naive[v + '_ACT']).median()\n",
    "        overall_stats_naive.append((v, pct_miss))\n",
    "\n",
    "summary_data_naive = pd.DataFrame.from_records(overall_stats_naive, columns=labels)\n",
    "\n",
    "summary_data_naive.to_csv('naive_model_output')"
   ]
  },
  {
   "cell_type": "code",
   "execution_count": null,
   "metadata": {},
   "outputs": [],
   "source": [
    "# now that's done, compute the median percent misses for each fruit\n"
   ]
  },
  {
   "cell_type": "code",
   "execution_count": null,
   "metadata": {},
   "outputs": [],
   "source": []
  }
 ],
 "metadata": {
  "kernelspec": {
   "display_name": "Python 3",
   "language": "python",
   "name": "python3"
  },
  "language_info": {
   "codemirror_mode": {
    "name": "ipython",
    "version": 3
   },
   "file_extension": ".py",
   "mimetype": "text/x-python",
   "name": "python",
   "nbconvert_exporter": "python",
   "pygments_lexer": "ipython3",
   "version": "3.6.4"
  }
 },
 "nbformat": 4,
 "nbformat_minor": 2
}
