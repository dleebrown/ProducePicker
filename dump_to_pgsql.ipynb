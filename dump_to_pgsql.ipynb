{
 "cells": [
  {
   "cell_type": "markdown",
   "metadata": {},
   "source": [
    "# Upload my predictions to local postgres db"
   ]
  },
  {
   "cell_type": "code",
   "execution_count": 1,
   "metadata": {},
   "outputs": [],
   "source": [
    "# import what I need\n",
    "from sqlalchemy import create_engine\n",
    "from sqlalchemy_utils import database_exists, create_database\n",
    "import psycopg2\n",
    "import pandas as pd"
   ]
  },
  {
   "cell_type": "code",
   "execution_count": 2,
   "metadata": {},
   "outputs": [],
   "source": [
    "# define folder locations, vars\n",
    "cities = ['NEW+YORK', 'LOS+ANGELES']\n",
    "folder = './produce_predictions/'\n",
    "\n",
    "dbname = 'produce_predictions'\n",
    "username = 'donald'\n"
   ]
  },
  {
   "cell_type": "code",
   "execution_count": 3,
   "metadata": {},
   "outputs": [
    {
     "name": "stdout",
     "output_type": "stream",
     "text": [
      "postgres://donald@localhost/produce_predictions\n"
     ]
    }
   ],
   "source": [
    "# engine\n",
    "engine = create_engine('postgres://%s@localhost/%s'%(username,dbname))\n",
    "print(engine.url)"
   ]
  },
  {
   "cell_type": "code",
   "execution_count": 4,
   "metadata": {},
   "outputs": [
    {
     "name": "stdout",
     "output_type": "stream",
     "text": [
      "True\n"
     ]
    }
   ],
   "source": [
    "## create a database (if it doesn't exist)\n",
    "if not database_exists(engine.url):\n",
    "    create_database(engine.url)\n",
    "print(database_exists(engine.url))"
   ]
  },
  {
   "cell_type": "code",
   "execution_count": 5,
   "metadata": {},
   "outputs": [],
   "source": [
    "# now read in each city's predictions\n",
    "# delete current entries in database if they exist\n",
    "\n",
    "for c in cities:\n",
    "    predictions = pd.read_csv(folder+c+'_predictions.csv', index_col = 0)\n",
    "    c = c.replace(\"+\", \"\")\n",
    "    c = c.lower()\n",
    "    predictions = predictions.round(2)\n",
    "    ## insert data into database from Python (proof of concept - this won't be useful for big data, of course)\n",
    "    predictions.to_sql(c+'_predictions', engine, if_exists='replace')"
   ]
  },
  {
   "cell_type": "code",
   "execution_count": 6,
   "metadata": {},
   "outputs": [
    {
     "name": "stdout",
     "output_type": "stream",
     "text": [
      "[{'item': 'APPLES', 'currprice': 28.05, 'predictprice': 24.01}, {'item': 'APRICOTS', 'currprice': 37.65, 'predictprice': 34.66}, {'item': 'ASPARAGUS', 'currprice': 26.9, 'predictprice': 16.66}, {'item': 'AVOCADOS', 'currprice': 33.71, 'predictprice': 34.66}, {'item': 'BANANAS', 'currprice': 16.53, 'predictprice': 16.24}, {'item': 'BEANS', 'currprice': 25.05, 'predictprice': 21.94}, {'item': 'BEETS', 'currprice': 13.07, 'predictprice': 7.3}, {'item': 'BLACKBERRIES', 'currprice': 18.4, 'predictprice': 16.77}, {'item': 'BLUEBERRIES', 'currprice': 31.23, 'predictprice': 27.25}, {'item': 'BROCCOLI', 'currprice': 29.02, 'predictprice': 15.77}, {'item': 'BRUSSELS+SPROUTS', 'currprice': 25.0, 'predictprice': 39.18}, {'item': 'CABBAGE', 'currprice': 12.96, 'predictprice': 7.7}, {'item': 'CANTALOUPS', 'currprice': 20.12, 'predictprice': 12.85}, {'item': 'CARROTS', 'currprice': 15.51, 'predictprice': 29.14}, {'item': 'CAULIFLOWER', 'currprice': 20.1, 'predictprice': 18.35}, {'item': 'CELERY', 'currprice': 17.5, 'predictprice': 15.77}, {'item': 'CHERRIES', 'currprice': 26.46, 'predictprice': nan}, {'item': 'CLEMENTINES', 'currprice': 6.75, 'predictprice': 6.29}, {'item': 'CUCUMBERS', 'currprice': 21.7, 'predictprice': 15.15}, {'item': 'ENDIVE', 'currprice': 13.0, 'predictprice': 14.12}, {'item': 'GARLIC', 'currprice': 47.5, 'predictprice': 46.39}, {'item': 'GINGER+ROOT', 'currprice': 24.36, 'predictprice': 33.05}, {'item': 'GRAPEFRUIT', 'currprice': 24.18, 'predictprice': nan}, {'item': 'GRAPES', 'currprice': 23.18, 'predictprice': 29.22}, {'item': 'HONEYDEWS', 'currprice': 14.1, 'predictprice': 11.8}, {'item': 'KIWIFRUIT', 'currprice': 18.47, 'predictprice': 23.43}, {'item': 'LEMONS', 'currprice': 30.75, 'predictprice': 27.18}, {'item': 'LETTUCE%2C+ICEBERG', 'currprice': 16.63, 'predictprice': 13.65}, {'item': 'LETTUCE%2C+ROMAINE', 'currprice': 13.41, 'predictprice': 15.6}, {'item': 'LETTUCE%2C+RED+LEAF', 'currprice': 15.74, 'predictprice': 15.58}, {'item': 'LETTUCE%2C+GREEN+LEAF', 'currprice': 16.04, 'predictprice': 15.35}, {'item': 'LIMES', 'currprice': 22.33, 'predictprice': 16.3}, {'item': 'MANGOES', 'currprice': 5.25, 'predictprice': nan}, {'item': 'NECTARINES', 'currprice': 42.74, 'predictprice': nan}, {'item': 'OKRA', 'currprice': 18.1, 'predictprice': nan}, {'item': 'ORANGES', 'currprice': 28.5, 'predictprice': 24.02}, {'item': 'PEACHES', 'currprice': 44.21, 'predictprice': nan}, {'item': 'PEARS', 'currprice': 40.25, 'predictprice': 33.39}, {'item': 'PEAS+GREEN', 'currprice': 20.46, 'predictprice': 17.03}, {'item': 'PEPPERS%2C+BELL+TYPE', 'currprice': 24.99, 'predictprice': 14.88}, {'item': 'PINEAPPLES', 'currprice': 12.18, 'predictprice': 16.75}, {'item': 'PLUMS', 'currprice': 29.79, 'predictprice': 48.41}, {'item': 'POTATOES', 'currprice': 19.98, 'predictprice': 17.86}, {'item': 'RADISHES', 'currprice': 15.15, 'predictprice': 13.4}, {'item': 'RASPBERRIES', 'currprice': 33.83, 'predictprice': 28.34}, {'item': 'RHUBARB', 'currprice': 30.96, 'predictprice': 35.51}, {'item': 'SPINACH', 'currprice': 19.86, 'predictprice': 19.1}, {'item': 'SQUASH', 'currprice': 16.85, 'predictprice': 19.4}, {'item': 'STRAWBERRIES', 'currprice': 8.64, 'predictprice': 15.03}, {'item': 'TURNIPS', 'currprice': 14.5, 'predictprice': nan}]\n"
     ]
    }
   ],
   "source": [
    "dbname = 'produce_predictions'\n",
    "user = 'donald'\n",
    "con = psycopg2.connect(database = dbname, user = user)\n",
    "\n",
    "# double check to make sure it actually worked\n",
    "sql_query = \"\"\"\n",
    "          SELECT \"Item\", \"Current Price\", \"3 Month Prediction\" FROM \"newyork_prophet_predictions\";\n",
    "           \"\"\"\n",
    "query_results=pd.read_sql_query(sql_query,con)\n",
    "predictions = []\n",
    "for i in range(0,query_results.shape[0]):\n",
    "    predictions.append(dict(item=query_results.iloc[i]['Item'], currprice=query_results.iloc[i]['Current Price'], predictprice=query_results.iloc[i]['3 Month Prediction']))\n",
    "print(predictions)"
   ]
  },
  {
   "cell_type": "code",
   "execution_count": null,
   "metadata": {},
   "outputs": [],
   "source": []
  },
  {
   "cell_type": "code",
   "execution_count": null,
   "metadata": {},
   "outputs": [],
   "source": []
  }
 ],
 "metadata": {
  "kernelspec": {
   "display_name": "Python 3",
   "language": "python",
   "name": "python3"
  },
  "language_info": {
   "codemirror_mode": {
    "name": "ipython",
    "version": 3
   },
   "file_extension": ".py",
   "mimetype": "text/x-python",
   "name": "python",
   "nbconvert_exporter": "python",
   "pygments_lexer": "ipython3",
   "version": "3.6.4"
  }
 },
 "nbformat": 4,
 "nbformat_minor": 2
}
