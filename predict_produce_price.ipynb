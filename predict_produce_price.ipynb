{
 "cells": [
  {
   "cell_type": "code",
   "execution_count": 241,
   "metadata": {},
   "outputs": [],
   "source": [
    "import pandas as pd\n",
    "import numpy as np\n",
    "from matplotlib import pyplot as plt\n",
    "import seaborn as sns\n",
    "from xgboost.sklearn import XGBRegressor  \n",
    "import pickle\n",
    "import datetime\n",
    "sns.set_style(\"darkgrid\")\n",
    "model_dir = './saved_xgb_models/'\n",
    "data_dir = './trimmed_data_and_plots/'\n",
    "predict_dir = './produce_predictions/'"
   ]
  },
  {
   "cell_type": "code",
   "execution_count": 242,
   "metadata": {},
   "outputs": [],
   "source": [
    "def read_stored_model(city, veggie, directory):\n",
    "    loaded_model = pickle.load(open(directory+city+'_'+veggie+'_model', \"rb\"))\n",
    "    return loaded_model"
   ]
  },
  {
   "cell_type": "code",
   "execution_count": 243,
   "metadata": {},
   "outputs": [],
   "source": [
    "def read_trimmed_data(city, veggie, data_directory):\n",
    "    # reads in cleaned .csv data for one city and veggie, returns\n",
    "    output_data = pd.read_csv(data_dir+veggie+'_'+city+'_TRIM.csv')\n",
    "    output_data['Date'] = pd.to_datetime(output_data['Date'])\n",
    "    output_data = output_data.sort_values(by='Date')\n",
    "    output_data = output_data.reset_index(drop=True)\n",
    "    return output_data"
   ]
  },
  {
   "cell_type": "code",
   "execution_count": 244,
   "metadata": {},
   "outputs": [],
   "source": [
    "def nearest_date(dates, targdate):\n",
    "    for i in dates:\n",
    "        i = i.to_pydatetime()\n",
    "    nearest = min(dates, key=lambda x: abs(x - targdate))\n",
    "    timedelta = abs(nearest - targdate)\n",
    "    return nearest, timedelta"
   ]
  },
  {
   "cell_type": "code",
   "execution_count": 245,
   "metadata": {},
   "outputs": [],
   "source": [
    "def get_train(veggie_data, train_length):\n",
    "    all_dates = pd.to_datetime(veggie_data['Date'])\n",
    "    start_date = all_dates.tail(1).iloc[0]\n",
    "    train_time = pd.to_timedelta(pd.np.ceil(train_days), unit=\"D\")\n",
    "    start_date_train = start_date - train_time\n",
    "    start_date_train = start_date_train\n",
    "    nearest_date_train, deltatrain = nearest_date(all_dates, start_date_train)\n",
    "    training_set = veggie_data[(veggie_data['Date'] >= nearest_date_train) & (veggie_data['Date'] < start_date)]\n",
    "    return training_set"
   ]
  },
  {
   "cell_type": "code",
   "execution_count": 246,
   "metadata": {},
   "outputs": [],
   "source": [
    "def build_features(input_data):\n",
    "    input_data = [input_data['Average Price'].mean()]\n",
    "    return(input_data)"
   ]
  },
  {
   "cell_type": "code",
   "execution_count": 247,
   "metadata": {},
   "outputs": [],
   "source": [
    "def current_price(input_data):\n",
    "    # retrieve the last week's worth of data\n",
    "    return input_data['Average Price'].tail(7).mean()"
   ]
  },
  {
   "cell_type": "code",
   "execution_count": 248,
   "metadata": {},
   "outputs": [],
   "source": [
    "cities = ['NEW+YORK', 'LOS+ANGELES']\n",
    "veggies = ['APPLES','APRICOTS','ASPARAGUS','AVOCADOS','BANANAS','BEANS','BEETS','BLACKBERRIES','BLUEBERRIES','BROCCOLI','BRUSSELS+SPROUTS','CABBAGE','CANTALOUPS','CARROTS','CAULIFLOWER','CELERY','CHERRIES','CLEMENTINES', 'CUCUMBERS','ENDIVE','GARLIC','GINGER+ROOT','GRAPEFRUIT','GRAPES','HONEYDEWS','KIWIFRUIT','LEMONS','LETTUCE%2C+ICEBERG','LETTUCE%2C+ROMAINE','LETTUCE%2C+RED+LEAF','LETTUCE%2C+GREEN+LEAF', 'LIMES','MANGOES','NECTARINES','OKRA','ORANGES','PEACHES','PEARS','PEAS+GREEN','PEPPERS%2C+BELL+TYPE','PINEAPPLES','PLUMS','POTATOES','RADISHES','RASPBERRIES','RHUBARB','SPINACH','SQUASH','STRAWBERRIES','TURNIPS']\n",
    "train_days = 365*3"
   ]
  },
  {
   "cell_type": "code",
   "execution_count": 252,
   "metadata": {},
   "outputs": [
    {
     "name": "stdout",
     "output_type": "stream",
     "text": [
      "APPLES\n",
      "APRICOTS\n",
      "ASPARAGUS\n",
      "AVOCADOS\n",
      "BANANAS\n",
      "BEANS\n",
      "BEETS\n",
      "BLACKBERRIES\n",
      "BLUEBERRIES\n",
      "BROCCOLI\n",
      "BRUSSELS+SPROUTS\n",
      "CABBAGE\n",
      "CANTALOUPS\n",
      "CARROTS\n",
      "CAULIFLOWER\n",
      "CELERY\n",
      "CHERRIES\n",
      "CLEMENTINES\n",
      "CUCUMBERS\n",
      "ENDIVE\n",
      "GARLIC\n",
      "GINGER+ROOT\n",
      "GRAPEFRUIT\n",
      "GRAPES\n",
      "HONEYDEWS\n",
      "KIWIFRUIT\n",
      "LEMONS\n",
      "LETTUCE%2C+ICEBERG\n",
      "LETTUCE%2C+ROMAINE\n",
      "LETTUCE%2C+RED+LEAF\n",
      "LETTUCE%2C+GREEN+LEAF\n",
      "LIMES\n",
      "MANGOES\n",
      "NECTARINES\n",
      "OKRA\n",
      "ORANGES\n",
      "PEACHES\n",
      "PEARS\n",
      "PEAS+GREEN\n",
      "PEPPERS%2C+BELL+TYPE\n",
      "PINEAPPLES\n",
      "PLUMS\n",
      "POTATOES\n",
      "RADISHES\n",
      "RASPBERRIES\n",
      "RHUBARB\n",
      "SPINACH\n",
      "SQUASH\n",
      "STRAWBERRIES\n",
      "TURNIPS\n",
      "APPLES\n",
      "APRICOTS\n",
      "ASPARAGUS\n",
      "AVOCADOS\n",
      "BANANAS\n",
      "BEANS\n",
      "BEETS\n",
      "BLACKBERRIES\n",
      "BLUEBERRIES\n",
      "BROCCOLI\n",
      "BRUSSELS+SPROUTS\n",
      "CABBAGE\n",
      "CANTALOUPS\n",
      "CARROTS\n",
      "CAULIFLOWER\n",
      "CELERY\n",
      "CHERRIES\n",
      "CLEMENTINES\n",
      "CUCUMBERS\n",
      "ENDIVE\n",
      "GARLIC\n",
      "GINGER+ROOT\n",
      "GRAPEFRUIT\n",
      "GRAPES\n",
      "HONEYDEWS\n",
      "KIWIFRUIT\n",
      "LEMONS\n",
      "LETTUCE%2C+ICEBERG\n",
      "LETTUCE%2C+ROMAINE\n",
      "LETTUCE%2C+RED+LEAF\n",
      "LETTUCE%2C+GREEN+LEAF\n",
      "LIMES\n",
      "MANGOES\n",
      "NECTARINES\n",
      "OKRA\n",
      "ORANGES\n",
      "PEACHES\n",
      "PEARS\n",
      "PEAS+GREEN\n",
      "PEPPERS%2C+BELL+TYPE\n",
      "PINEAPPLES\n",
      "PLUMS\n",
      "POTATOES\n",
      "RADISHES\n",
      "RASPBERRIES\n",
      "RHUBARB\n",
      "SPINACH\n",
      "SQUASH\n",
      "STRAWBERRIES\n",
      "TURNIPS\n"
     ]
    }
   ],
   "source": [
    "labels = ['Item', 'Current Price', '3 Month Prediction']\n",
    "# city loop\n",
    "\n",
    "for c in cities:\n",
    "    \n",
    "    outputs = []\n",
    "\n",
    "    for v in veggies:\n",
    "\n",
    "        input_data = read_trimmed_data(c, v, data_dir)\n",
    "\n",
    "        historical_data = get_train(input_data, train_days)\n",
    "\n",
    "        inputX = build_features(historical_data)\n",
    "        currentprice = current_price(historical_data)\n",
    "\n",
    "        model = read_stored_model(c, v, model_dir)\n",
    "\n",
    "        outputY = model.predict(inputX)\n",
    "        print(v)\n",
    "\n",
    "        outputs.append((v, currentprice, outputY[0]))\n",
    "    all_predictions = pd.DataFrame.from_records(outputs, columns=labels)\n",
    "\n",
    "    all_predictions.to_csv(predict_dir + c + '_predictions.csv')\n",
    "\n",
    "    # end city loop\n"
   ]
  },
  {
   "cell_type": "code",
   "execution_count": null,
   "metadata": {},
   "outputs": [],
   "source": []
  },
  {
   "cell_type": "code",
   "execution_count": null,
   "metadata": {},
   "outputs": [],
   "source": []
  }
 ],
 "metadata": {
  "kernelspec": {
   "display_name": "Python 3",
   "language": "python",
   "name": "python3"
  },
  "language_info": {
   "codemirror_mode": {
    "name": "ipython",
    "version": 3
   },
   "file_extension": ".py",
   "mimetype": "text/x-python",
   "name": "python",
   "nbconvert_exporter": "python",
   "pygments_lexer": "ipython3",
   "version": "3.6.4"
  }
 },
 "nbformat": 4,
 "nbformat_minor": 2
}
