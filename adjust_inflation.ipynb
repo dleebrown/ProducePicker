{
 "cells": [
  {
   "cell_type": "code",
   "execution_count": 1,
   "metadata": {},
   "outputs": [
    {
     "data": {
      "text/plain": [
       "\"adjust average prices for inflation using the CPI\\nstores results in 'IA Average Price' column\\nadjusts relative to last date - i.e. 2018 dollars throughout\\n\""
      ]
     },
     "execution_count": 1,
     "metadata": {},
     "output_type": "execute_result"
    }
   ],
   "source": [
    "\"\"\"adjust average prices for inflation using the CPI\n",
    "stores results in 'IA Average Price' column\n",
    "adjusts relative to last date - i.e. 2018 dollars throughout\n",
    "\"\"\""
   ]
  },
  {
   "cell_type": "code",
   "execution_count": 2,
   "metadata": {},
   "outputs": [],
   "source": [
    "import fbprophet as fp\n",
    "import pandas as pd\n",
    "import numpy as np\n",
    "from matplotlib import pyplot as plt\n",
    "import seaborn as sns\n",
    "import pickle\n",
    "from sklearn.model_selection import RandomizedSearchCV\n",
    "sns.set_style(\"darkgrid\")\n",
    "import time\n",
    "import math\n",
    "from fbprophet.diagnostics import cross_validation\n",
    "from fbprophet.diagnostics import performance_metrics\n",
    "import random"
   ]
  },
  {
   "cell_type": "code",
   "execution_count": 3,
   "metadata": {},
   "outputs": [],
   "source": [
    "# veggie and city data\n",
    "datadir = '../trimmed_data_and_plots/'\n",
    "veggienames = ['APPLES','APRICOTS','ASPARAGUS','AVOCADOS','BANANAS','BEANS','BEETS','BLACKBERRIES','BLUEBERRIES','BROCCOLI','BRUSSELS+SPROUTS','CABBAGE','CANTALOUPS','CARROTS','CAULIFLOWER','CELERY','CHERRIES','CLEMENTINES', 'CUCUMBERS','ENDIVE','GARLIC','GINGER+ROOT','GRAPEFRUIT','GRAPES','HONEYDEWS','KIWIFRUIT','LEMONS','LETTUCE%2C+ICEBERG','LETTUCE%2C+ROMAINE','LETTUCE%2C+RED+LEAF','LETTUCE%2C+GREEN+LEAF', 'LIMES','NECTARINES','OKRA','ORANGES','PEACHES','PEARS','PEAS+GREEN','PEPPERS%2C+BELL+TYPE','PINEAPPLES','PLUMS','POTATOES','RADISHES','RASPBERRIES','RHUBARB','SPINACH','SQUASH','STRAWBERRIES']\n",
    "cities = ['NEW+YORK', 'LOS+ANGELES']"
   ]
  },
  {
   "cell_type": "code",
   "execution_count": 4,
   "metadata": {},
   "outputs": [],
   "source": [
    "def read_trimmed_data_notprophet(city, veggie, data_dir):\n",
    "    # reads in cleaned .csv data for one city and veggie, returns\n",
    "    output_data = pd.read_csv(data_dir+veggie+'_'+city+'_TRIM.csv')\n",
    "    output_data.rename(columns={'Unnamed: 0': 'Date'}, inplace=True)\n",
    "    output_data['Date'] = pd.to_datetime(output_data['Date'])\n",
    "    output_data = output_data.sort_values(by='Date')\n",
    "    output_data = output_data.reset_index(drop=True)\n",
    "    output_data = output_data.dropna(subset=['Average Price'])\n",
    "    return output_data"
   ]
  },
  {
   "cell_type": "code",
   "execution_count": 5,
   "metadata": {},
   "outputs": [],
   "source": [
    "def nearest_date(dates, targdate):\n",
    "    # given a pd series of dates and a target date, returns date from the series closest to target date (and distance)\n",
    "    for i in dates:\n",
    "        i = i.to_pydatetime()\n",
    "    nearest = min(dates, key=lambda x: abs(x - targdate))\n",
    "    timedelta = abs(nearest - targdate)\n",
    "    return nearest, timedelta"
   ]
  },
  {
   "cell_type": "code",
   "execution_count": 6,
   "metadata": {},
   "outputs": [],
   "source": [
    "# read in the cpid inverse coefficients\n",
    "coeffs = pd.read_csv('./CPIAUCNS.csv')\n",
    "coeffs['DATE'] = pd.to_datetime(coeffs['DATE'])\n",
    "coeffs = coeffs.sort_values(by='DATE')\n",
    "coeffs = coeffs.reset_index(drop=True)"
   ]
  },
  {
   "cell_type": "code",
   "execution_count": 7,
   "metadata": {},
   "outputs": [],
   "source": [
    "# now loop over the data\n",
    "for c in cities:\n",
    "    for v in veggienames:\n",
    "        nearest_dates = []\n",
    "        original_data = read_trimmed_data_notprophet(c, v, datadir)\n",
    "        original_data = original_data.reset_index(drop=True)\n",
    "        datelist = coeffs['DATE']\n",
    "        for i in range(len(original_data['Date'])):\n",
    "            targetdate = original_data['Date'].iloc[i]\n",
    "            closest_date, _ = nearest_date(datelist, targetdate)\n",
    "            closest_coeff = coeffs[coeffs['DATE']==closest_date].dropna()\n",
    "            nearest_dates.append(closest_coeff.values[0][1])\n",
    "        original_data[\"Inflation Index\"] = pd.Series(nearest_dates)\n",
    "        original_data[\"IA Average Price\"] = original_data['Average Price']/original_data['Inflation Index']\n",
    "        original_data = original_data.set_index('Date')\n",
    "        original_data.to_csv(datadir+v+'_'+c+'_TRIM.csv')\n",
    "        "
   ]
  },
  {
   "cell_type": "code",
   "execution_count": null,
   "metadata": {},
   "outputs": [],
   "source": []
  }
 ],
 "metadata": {
  "kernelspec": {
   "display_name": "Python 3",
   "language": "python",
   "name": "python3"
  },
  "language_info": {
   "codemirror_mode": {
    "name": "ipython",
    "version": 3
   },
   "file_extension": ".py",
   "mimetype": "text/x-python",
   "name": "python",
   "nbconvert_exporter": "python",
   "pygments_lexer": "ipython3",
   "version": "3.6.4"
  }
 },
 "nbformat": 4,
 "nbformat_minor": 2
}
