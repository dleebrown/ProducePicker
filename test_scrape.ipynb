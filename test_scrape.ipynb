{
 "cells": [
  {
   "cell_type": "code",
   "execution_count": 17,
   "metadata": {},
   "outputs": [],
   "source": [
    "import requests\n",
    "import os\n",
    "import time\n",
    "import random"
   ]
  },
  {
   "cell_type": "code",
   "execution_count": 18,
   "metadata": {},
   "outputs": [
    {
     "data": {
      "text/plain": [
       "'https://www.marketnews.usda.gov/mnp/fv-report?&commAbr=OKRA&repType=termPriceDaily&repTypeChanger=termPriceDaily&locAbrPass=OKRA%7C%7COKRA&step3date=true&locName=LOS+ANGELES&type=termPrice&locChoose=location&refine=false&_environment=1&locAbrlength=1&organic=NO&environment=&locAbr=HC&commodityClass=allcommodity&Run=Run&repDate=06%2F01%2F2010&endDate=05%2F31%2F2011&format=excel&rebuild=false'"
      ]
     },
     "execution_count": 18,
     "metadata": {},
     "output_type": "execute_result"
    }
   ],
   "source": [
    "'https://www.marketnews.usda.gov/mnp/fv-report?&commAbr=OKRA&repType=termPriceDaily&repTypeChanger=termPriceDaily&locAbrPass=OKRA%7C%7COKRA&step3date=true&locName=NEW+YORK&type=termPrice&locChoose=location&refine=false&_environment=1&locAbrlength=1&organic=NO&environment=&locAbr=NX&commodityClass=allcommodity&Run=Run&repDate=06%2F01%2F2008&endDate=05%2F31%2F2009&format=excel&rebuild=false'\n",
    "'https://www.marketnews.usda.gov/mnp/fv-report?&commAbr=CARR&repType=termPriceDaily&repTypeChanger=termPriceDaily&locAbrPass=CARROTS%7C%7CCARR&step3date=true&locName=NEW+YORK&type=termPrice&locChoose=location&refine=false&_environment=1&locAbrlength=1&organic=NO&environment=&locAbr=NX&commodityClass=allcommodity&Run=Run&y=12&x=65&repDate=06%2F01%2F2008&endDate=05%2F31%2F2009&format=excel&rebuild=false'\n",
    "'https://www.marketnews.usda.gov/mnp/fv-report?&commAbr=OKRA&repType=termPriceDaily&repTypeChanger=termPriceDaily&locAbrPass=OKRA%7C%7COKRA&step3date=true&locName=LOS+ANGELES&type=termPrice&locChoose=location&refine=false&_environment=1&locAbrlength=1&organic=NO&environment=&locAbr=HC&commodityClass=allcommodity&Run=Run&repDate=06%2F01%2F2010&endDate=05%2F31%2F2011&format=excel&rebuild=false'"
   ]
  },
  {
   "cell_type": "code",
   "execution_count": 19,
   "metadata": {},
   "outputs": [],
   "source": [
    "def fetch_data(city, shortcity, producename, year):\n",
    "    shortname = producename\n",
    "    if len(producename)>4:\n",
    "        shortname = producename[:4]\n",
    "    url = 'https://www.marketnews.usda.gov/mnp/fv-report?&commAbr='+str(shortname)+'&repType=termPriceDaily&repTypeChanger=termPriceDaily&locAbrPass='+str(producename)+'%7C%7C'+str(shortname)+'&step3date=true&locName='+str(city)+'&type=termPrice&locChoose=location&refine=false&_environment=1&locAbrlength=1&organic=NO&environment=&locAbr='+str(shortcity)+'&commodityClass=allcommodity&Run=Run&repDate=06%2F01%2F'+str(year)+'&endDate=05%2F31%2F'+str(int(year)+1)+'&format=excel&rebuild=false'\n",
    "    r = requests.get(url, allow_redirects=True)\n",
    "    open(str(city)+'_'+str(producename)+'_'+str(year)+'.html', 'wb').write(r.content)\n",
    "    "
   ]
  },
  {
   "cell_type": "code",
   "execution_count": 20,
   "metadata": {},
   "outputs": [],
   "source": [
    "# test \n",
    "test_city = 'NEW+YORK'\n",
    "test_short = 'NX'\n",
    "test_producename = 'CARROTS'\n",
    "test_year = '2007'"
   ]
  },
  {
   "cell_type": "code",
   "execution_count": 21,
   "metadata": {},
   "outputs": [],
   "source": [
    "#fetch_data(test_city, test_producename, test_year)"
   ]
  },
  {
   "cell_type": "code",
   "execution_count": 22,
   "metadata": {},
   "outputs": [],
   "source": [
    "# now do something a little more complicated - loop over a few veggies/years/cities\n",
    "cities = ['NEW+YORK', 'LOS+ANGELES']\n",
    "shortcities = ['NX', 'HC']\n",
    "# UPDATE: ALL VEGETABLES HAVE UNIQUE ABBREVIATIONS - SEE THE 'scrape_usda.ipynb' THAT I ACTUALLY USED\n",
    "veggies = ['CARROTS', 'OKRA']\n",
    "years = ['2008', '2009']"
   ]
  },
  {
   "cell_type": "code",
   "execution_count": 23,
   "metadata": {},
   "outputs": [
    {
     "name": "stdout",
     "output_type": "stream",
     "text": [
      "fetched NEW+YORK CARROTS 2008, sleeping for 23s\n",
      "fetched NEW+YORK CARROTS 2009, sleeping for 19s\n",
      "fetched NEW+YORK OKRA 2008, sleeping for 16s\n",
      "fetched NEW+YORK OKRA 2009, sleeping for 23s\n",
      "fetched LOS+ANGELES CARROTS 2008, sleeping for 24s\n",
      "fetched LOS+ANGELES CARROTS 2009, sleeping for 16s\n",
      "fetched LOS+ANGELES OKRA 2008, sleeping for 26s\n",
      "fetched LOS+ANGELES OKRA 2009, sleeping for 16s\n"
     ]
    }
   ],
   "source": [
    "counter = 0\n",
    "for c in cities:\n",
    "    for v in veggies:\n",
    "        for y in years:\n",
    "            random.seed()\n",
    "            sleeptime = random.randint(10, 25)\n",
    "            fetch_data(c, shortcities[counter], v, y)\n",
    "            print('fetched '+str(c)+' '+str(v)+' '+str(y)+', sleeping for '+str(sleeptime)+'s')\n",
    "            time.sleep(sleeptime)\n",
    "    counter+=1"
   ]
  },
  {
   "cell_type": "code",
   "execution_count": null,
   "metadata": {},
   "outputs": [],
   "source": []
  }
 ],
 "metadata": {
  "kernelspec": {
   "display_name": "Python 3",
   "language": "python",
   "name": "python3"
  },
  "language_info": {
   "codemirror_mode": {
    "name": "ipython",
    "version": 3
   },
   "file_extension": ".py",
   "mimetype": "text/x-python",
   "name": "python",
   "nbconvert_exporter": "python",
   "pygments_lexer": "ipython3",
   "version": "3.6.4"
  }
 },
 "nbformat": 4,
 "nbformat_minor": 2
}
