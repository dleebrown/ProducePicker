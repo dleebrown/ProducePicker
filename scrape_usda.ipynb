{
 "cells": [
  {
   "cell_type": "code",
   "execution_count": null,
   "metadata": {},
   "outputs": [],
   "source": [
    "\"\"\"This notebook scrapes the USDA market research website for historical wholesale produce data\n",
    "This is done by linking directly to a server request output in html form\n",
    "Only one year of data can be requested at a time so this notebook loops over years.\n",
    "\n",
    "To use this in the future don't forget to: look up the short city code for each city, as well as short produce name.\n",
    "\"\"\""
   ]
  },
  {
   "cell_type": "code",
   "execution_count": 1,
   "metadata": {},
   "outputs": [],
   "source": [
    "import requests\n",
    "import os\n",
    "import time\n",
    "import random\n",
    "import sys"
   ]
  },
  {
   "cell_type": "code",
   "execution_count": 2,
   "metadata": {},
   "outputs": [],
   "source": [
    "# 06/26/18: this is a little hacked apart right now in order to update the produce items through june 25 2018 from 05/31/2018"
   ]
  },
  {
   "cell_type": "code",
   "execution_count": 3,
   "metadata": {},
   "outputs": [],
   "source": [
    "def fetch_data(city, shortcity, producename, shortname, year, directory):\n",
    "    \"\"\"Given a city and produce item, fetches a year of data and saves it in a target directory.\n",
    "    Skips any cities/items/year combos that have already been downloaded. Slightly hardened against \n",
    "    timeouts,etc. from the USDA server, which is a bit flaky.\n",
    "    \"\"\"\n",
    "    if str(city)+'_'+str(producename)+'_'+str(year)+'.html' not in os.listdir(directory):\n",
    "        # this is modified to retrieve 06/01/18 to 06/25/18\n",
    "        url = 'https://www.marketnews.usda.gov/mnp/fv-report?&commAbr='+str(shortname)+'&repType=termPriceDaily&repTypeChanger=termPriceDaily&locAbrPass='+str(producename)+'%7C%7C'+str(shortname)+'&step3date=true&locName='+str(city)+'&type=termPrice&locChoose=location&refine=false&_environment=1&locAbrlength=1&organic=NO&environment=&locAbr='+str(shortcity)+'&commodityClass=allcommodity&Run=Run&repDate=06%2F01%2F'+str(year)+'&endDate=06%2F25%2F'+str(int(year))+'&format=excel&rebuild=false'\n",
    "        try:\n",
    "            r = requests.get(url, allow_redirects=True, timeout=300)\n",
    "            open(str(directory)+str(city)+'_'+str(producename)+'_'+str(year)+'.html', 'wb').write(r.content)\n",
    "            return True\n",
    "        except requests.exceptions.Timeout:\n",
    "            print('request timed out, trying again...')\n",
    "            try:\n",
    "                r = requests.get(url, allow_redirects=True, timeout=300)\n",
    "                open(str(directory)+str(city)+'_'+str(producename)+'_'+str(year)+'.html', 'wb').write(r.content)\n",
    "                return True\n",
    "            except requests.exceptions.Timeout:\n",
    "                print('request timed out again, exiting...')\n",
    "                sys.exit()\n",
    "    else:\n",
    "        return False"
   ]
  },
  {
   "cell_type": "code",
   "execution_count": 4,
   "metadata": {},
   "outputs": [],
   "source": [
    "# test grabbing a single item\n",
    "test_city = 'NEW+YORK'\n",
    "test_short = 'NX'\n",
    "test_producename = 'CARROTS'\n",
    "test_year = '2007'"
   ]
  },
  {
   "cell_type": "code",
   "execution_count": 5,
   "metadata": {},
   "outputs": [],
   "source": [
    "#fetch_data(test_city, test_producename, test_year)\n",
    "#veggies = ['APPLES','APRICOTS','ASPARAGUS','AVOCADOS','BANANAS','BEANS','BEETS','BLACKBERRIES','BLUEBERRIES','BROCCOLI','BRUSSELS+SPROUTS','CABBAGE','CANTALOUPS','CARROTS','CAULIFLOWER','CELERY','CHERRIES','CLEMENTINES','CORN-SWEET','CRANBERRIES', 'CUCUMBERS','EGGPLANT','ENDIVE','GARLIC','GINGER+ROOT','GRAPEFRUIT','GRAPES','HONEYDEWS','KALE+GREENS','KIWIFRUIT','KOHLRABI','LEMONS','LETTUCE%2C+ICEBERG','LETTUCE%2C+ROMAINE','LETTUCE%2C+RED+LEAF','LETTUCE%2C+GREEN+LEAF','LETTUCE%2C+BIBB']\n",
    "#shortveg = ['APL','APR','ASP','AVOC','BAN','BNS','BTS','BLKBERI-V','BLUBY','BROC','BRSPT','CAB','CANT','CARR','CAUL','CEL','CHER','CLEM','CORN','CRBY','CUX','EGPLT','END','GARLIC','GNGRT','GRPFT','GRPS','HDEW','KALEGRNS','KIWI','KOHLRABI','LEM','LETT','LETTR','RDLFLET-V','GRNLFLET-V','BIBBLET-V']"
   ]
  },
  {
   "cell_type": "code",
   "execution_count": 6,
   "metadata": {},
   "outputs": [],
   "source": [
    "# loop over a few veggies/years/cities and dump into directory\n",
    "cities = ['NEW+YORK', 'LOS+ANGELES']\n",
    "shortcities = ['NX', 'HC']\n",
    "veggies = ['APPLES','APRICOTS','ASPARAGUS','AVOCADOS','BANANAS','BEANS','BEETS','BLACKBERRIES','BLUEBERRIES','BROCCOLI','BRUSSELS+SPROUTS','CABBAGE','CANTALOUPS','CARROTS','CAULIFLOWER','CELERY','CHERRIES','CLEMENTINES','CORN-SWEET','CRANBERRIES', 'CUCUMBERS','EGGPLANT','ENDIVE','GARLIC','GINGER+ROOT','GRAPEFRUIT','GRAPES','HONEYDEWS','KALE+GREENS','KIWIFRUIT','KOHLRABI','LEMONS','LETTUCE%2C+ICEBERG','LETTUCE%2C+ROMAINE','LETTUCE%2C+RED+LEAF','LETTUCE%2C+GREEN+LEAF','LETTUCE%2C+BIBB', 'LIMES','MANGOES','MUSHROOMS','NECTARINES','OKRA','ORANGES','PEACHES','PEARS','PEAS+GREEN','PEPPERS%2C+BELL+TYPE','PINEAPPLES','PLUMS','POTATOES','PUMPKINS','RADISHES','RASPBERRIES','RHUBARB','SPINACH','SQUASH','STRAWBERRIES','SWEET+POTATOES','TOMATOES','TURNIPS','WATERMELONS']\n",
    "shortveg = ['APL','APR','ASP','AVOC','BAN','BNS','BTS','BLKBERI-V','BLUBY','BROC','BRSPT','CAB','CANT','CARR','CAUL','CEL','CHER','CLEM','CORN','CRBY','CUX','EGPLT','END','GARLIC','GNGRT','GRPFT','GRPS','HDEW','KALEGRNS','KIWI','KOHLRABI','LEM','LETT','LETTR','RDLFLET-V','GRNLFLET-V','BIBBLET-V','LIM','MANGO','MUSH','NECT','OKRA','ORG','PCH','PEAR','PEASG','PEP','PINE','PLUM','POTS','PUMP','RAD','RASP','RHUB','SPIN','SQU','STRBY','SWPOT','TOM','TRNP','WMEL']\n",
    "#years = ['2007','2008', '2009','2010','2011','2012','2013','2014','2015','2016','2017']\n",
    "# replace with 2018 data\n",
    "years = ['2018']\n",
    "targdir = './raw_data/'"
   ]
  },
  {
   "cell_type": "code",
   "execution_count": 12,
   "metadata": {},
   "outputs": [
    {
     "name": "stdout",
     "output_type": "stream",
     "text": [
      "fetched LOS+ANGELES LETTUCE%2C+BIBB 2018, sleeping for 14s\n",
      "fetched LOS+ANGELES LIMES 2018, sleeping for 17s\n",
      "problem fetching, trying again...\n",
      "request timed out, trying again...\n",
      "fetched LOS+ANGELES MANGOES 2018, sleeping for 14s\n",
      "fetched LOS+ANGELES MUSHROOMS 2018, sleeping for 18s\n",
      "fetched LOS+ANGELES NECTARINES 2018, sleeping for 16s\n",
      "fetched LOS+ANGELES OKRA 2018, sleeping for 11s\n",
      "fetched LOS+ANGELES ORANGES 2018, sleeping for 14s\n",
      "fetched LOS+ANGELES PEACHES 2018, sleeping for 15s\n",
      "fetched LOS+ANGELES PEARS 2018, sleeping for 12s\n",
      "fetched LOS+ANGELES PEAS+GREEN 2018, sleeping for 15s\n",
      "fetched LOS+ANGELES PEPPERS%2C+BELL+TYPE 2018, sleeping for 12s\n",
      "fetched LOS+ANGELES PINEAPPLES 2018, sleeping for 18s\n",
      "fetched LOS+ANGELES PLUMS 2018, sleeping for 11s\n",
      "fetched LOS+ANGELES POTATOES 2018, sleeping for 17s\n",
      "fetched LOS+ANGELES PUMPKINS 2018, sleeping for 9s\n",
      "fetched LOS+ANGELES RADISHES 2018, sleeping for 16s\n",
      "fetched LOS+ANGELES RASPBERRIES 2018, sleeping for 10s\n",
      "fetched LOS+ANGELES RHUBARB 2018, sleeping for 8s\n",
      "fetched LOS+ANGELES SPINACH 2018, sleeping for 8s\n",
      "fetched LOS+ANGELES SQUASH 2018, sleeping for 16s\n",
      "fetched LOS+ANGELES STRAWBERRIES 2018, sleeping for 16s\n",
      "fetched LOS+ANGELES SWEET+POTATOES 2018, sleeping for 9s\n",
      "fetched LOS+ANGELES TOMATOES 2018, sleeping for 13s\n",
      "fetched LOS+ANGELES TURNIPS 2018, sleeping for 18s\n",
      "fetched LOS+ANGELES WATERMELONS 2018, sleeping for 8s\n",
      "fetched in 727.62s\n"
     ]
    }
   ],
   "source": [
    "# loop over all the produce items, cities specified above. this can take a while. \n",
    "initial_time = time.time()\n",
    "count_city = 0\n",
    "for c in cities:\n",
    "    count_veg = 0\n",
    "    for v in veggies:\n",
    "        for y in years:\n",
    "            random.seed()\n",
    "            sleeptime = random.randint(8, 18)\n",
    "            try:\n",
    "                if fetch_data(c, shortcities[count_city], v, shortveg[count_veg], y, targdir):\n",
    "                    print('fetched '+str(c)+' '+str(v)+' '+str(y)+', sleeping for '+str(sleeptime)+'s')\n",
    "                    time.sleep(sleeptime)\n",
    "            except OSError:\n",
    "                print('problem fetching, trying again...')\n",
    "                try:\n",
    "                    if fetch_data(c, shortcities[count_city], v, shortveg[count_veg], y, targdir):\n",
    "                        print('fetched '+str(c)+' '+str(v)+' '+str(y)+', sleeping for '+str(sleeptime)+'s')\n",
    "                        time.sleep(sleeptime)\n",
    "                except OSError:\n",
    "                    print('problem fetching, trying one last time...')\n",
    "                    if fetch_data(c, shortcities[count_city], v, shortveg[count_veg], y, targdir):\n",
    "                        print('fetched '+str(c)+' '+str(v)+' '+str(y)+', sleeping for '+str(sleeptime)+'s')\n",
    "                        time.sleep(sleeptime)        \n",
    "        count_veg+=1\n",
    "    count_city+=1\n",
    "final_time = time.time()\n",
    "print('fetched in '+str(round(final_time-initial_time, 2))+'s')"
   ]
  },
  {
   "cell_type": "code",
   "execution_count": null,
   "metadata": {},
   "outputs": [],
   "source": []
  }
 ],
 "metadata": {
  "kernelspec": {
   "display_name": "Python 3",
   "language": "python",
   "name": "python3"
  },
  "language_info": {
   "codemirror_mode": {
    "name": "ipython",
    "version": 3
   },
   "file_extension": ".py",
   "mimetype": "text/x-python",
   "name": "python",
   "nbconvert_exporter": "python",
   "pygments_lexer": "ipython3",
   "version": "3.6.4"
  }
 },
 "nbformat": 4,
 "nbformat_minor": 2
}
