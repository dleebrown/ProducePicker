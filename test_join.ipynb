{
 "cells": [
  {
   "cell_type": "code",
   "execution_count": 1,
   "metadata": {},
   "outputs": [],
   "source": [
    "import pandas as pd"
   ]
  },
  {
   "cell_type": "code",
   "execution_count": 2,
   "metadata": {},
   "outputs": [],
   "source": [
    "# concat function\n",
    "def concat_add(input_array, city, veg, yr):\n",
    "    new_data = pd.read_html(str(city)+'_'+str(veg)+'_'+str(yr)+'.html', header=0)[0]\n",
    "    output_data = pd.concat([input_array, new_data], ignore_index=True)\n",
    "    return output_data"
   ]
  },
  {
   "cell_type": "code",
   "execution_count": 3,
   "metadata": {},
   "outputs": [],
   "source": [
    "# just loop over the downloaded files and combine same veggies from one city across all years\n",
    "cities = ['NEW+YORK', 'LOS+ANGELES']\n",
    "veggies = ['CARROTS', 'OKRA']\n",
    "years = ['2008', '2009']"
   ]
  },
  {
   "cell_type": "code",
   "execution_count": 4,
   "metadata": {},
   "outputs": [],
   "source": [
    "# loop\n",
    "counter = 0\n",
    "for c in cities:\n",
    "    for v in veggies:\n",
    "        for y in years:\n",
    "            if y == years[0]:\n",
    "                first_data = pd.read_html(str(c)+'_'+str(v)+'_'+str(y)+'.html', header=0)[0]\n",
    "            else:\n",
    "                first_data = concat_add(first_data, c, v, y)\n",
    "        first_data.to_html(str(c)+'_'+str(v)+'_ALL.html')"
   ]
  },
  {
   "cell_type": "code",
   "execution_count": null,
   "metadata": {},
   "outputs": [],
   "source": []
  },
  {
   "cell_type": "code",
   "execution_count": null,
   "metadata": {},
   "outputs": [],
   "source": []
  }
 ],
 "metadata": {
  "kernelspec": {
   "display_name": "Python 3",
   "language": "python",
   "name": "python3"
  },
  "language_info": {
   "codemirror_mode": {
    "name": "ipython",
    "version": 3
   },
   "file_extension": ".py",
   "mimetype": "text/x-python",
   "name": "python",
   "nbconvert_exporter": "python",
   "pygments_lexer": "ipython3",
   "version": "3.6.4"
  }
 },
 "nbformat": 4,
 "nbformat_minor": 2
}
